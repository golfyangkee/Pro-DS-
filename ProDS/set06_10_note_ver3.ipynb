{
 "cells": [
  {
   "cell_type": "markdown",
   "id": "50ee990e",
   "metadata": {},
   "source": [
    "# 문제 06 유형(DataSet_06.csv 이용)"
   ]
  },
  {
   "cell_type": "code",
   "execution_count": null,
   "id": "086471c6",
   "metadata": {},
   "outputs": [],
   "source": [
    "# =============================================================================\n",
    "# 구분자 : comma(“,”), 4,323 Rows, 19 Columns, UTF-8 인코딩\n",
    "\n",
    "# 주택 관련 정보를 바탕으로 주택 가격을 예측해 보고자 한다. \n",
    "# 다음은 확보한 주택 관련 데이터로 총 19개 컬럼으로 구성되어\n",
    "# 있다.\n",
    "\n",
    "# 컬 럼 / 정 의 / Type\n",
    "# id / 매물 번호 / Double\n",
    "# date / 날짜 / String\n",
    "# price / 거래 가격 / Double\n",
    "# bedrooms / 방 개수 / Double\n",
    "# bathrooms / 화장실 개수 (화장실은 있으나 샤워기 없는 경우 0.5로 처리) / Double\n",
    "# sqft_living / 건축물 면적 / Double\n",
    "# sqft_lot / 대지 면적 / Double\n",
    "# floors / 건축물의 층수 / Double\n",
    "# waterfront / 강변 조망 가능 여부 (0 / 1) / Double\n",
    "# view / 경관 (나쁨에서 좋음으로 0 ~ 4로 표시) / Double\n",
    "# condition / 관리 상태 (나쁨에서 좋음으로 1 ~ 5로 표시) / Double\n",
    "# grade / 등급 (낮음에서 높음으로 1 ~ 13으로 표시) / Double\n",
    "# sqft_above / 지상 면적 / Double\n",
    "# sqft_basement / 지하실 면적 / Double\n",
    "# yr_built / 건축 연도 / Double\n",
    "# yr_renovated / 개축 연도 / Double\n",
    "# zipcode / 우편번호 / Double\n",
    "# sqft_living15 / 15개의 인근 주택의 평균 건물 면적 / Double\n",
    "# sqft_lot15 / 15개의 인근 주택의 평균 대지 면적 / Double\n",
    "# =============================================================================\n",
    "# ============================================================================="
   ]
  },
  {
   "cell_type": "code",
   "execution_count": 1,
   "id": "171261af",
   "metadata": {},
   "outputs": [],
   "source": [
    "import pandas as pd  # 데이터 불러오기/내보내기/전처리/기술통계\n",
    "import numpy as np  # 데이터 전처리 및 일괄 처리, 벡터 반올림/올림/내림/절단\n",
    "import scipy.stats as st # 기술통계, 통계 모수적 방법론(t,f, 분산분석, 카이스퀘어 검정 등)\n",
    "from statsmodels.formula.api import ols  # 모수적 방법론, 선형회귀, 로지스틱, 시계열 분석 등)\n",
    "from sklearn.linear_model import LinearRegression # 머신러닝 전처리 및 방법론\n",
    "\n",
    "import warnings\n",
    "warnings.filterwarnings('ignore')\n",
    "\n",
    "%matplotlib inline"
   ]
  },
  {
   "cell_type": "code",
   "execution_count": 2,
   "id": "dfb83fa0",
   "metadata": {},
   "outputs": [
    {
     "data": {
      "text/html": [
       "<div>\n",
       "<style scoped>\n",
       "    .dataframe tbody tr th:only-of-type {\n",
       "        vertical-align: middle;\n",
       "    }\n",
       "\n",
       "    .dataframe tbody tr th {\n",
       "        vertical-align: top;\n",
       "    }\n",
       "\n",
       "    .dataframe thead th {\n",
       "        text-align: right;\n",
       "    }\n",
       "</style>\n",
       "<table border=\"1\" class=\"dataframe\">\n",
       "  <thead>\n",
       "    <tr style=\"text-align: right;\">\n",
       "      <th></th>\n",
       "      <th>id</th>\n",
       "      <th>date</th>\n",
       "      <th>price</th>\n",
       "      <th>bedrooms</th>\n",
       "      <th>bathrooms</th>\n",
       "      <th>sqft_living</th>\n",
       "      <th>sqft_lot</th>\n",
       "      <th>floors</th>\n",
       "      <th>waterfront</th>\n",
       "      <th>view</th>\n",
       "      <th>condition</th>\n",
       "      <th>grade</th>\n",
       "      <th>sqft_above</th>\n",
       "      <th>sqft_basement</th>\n",
       "      <th>yr_built</th>\n",
       "      <th>yr_renovated</th>\n",
       "      <th>zipcode</th>\n",
       "      <th>sqft_living15</th>\n",
       "      <th>sqft_lot15</th>\n",
       "    </tr>\n",
       "  </thead>\n",
       "  <tbody>\n",
       "    <tr>\n",
       "      <th>0</th>\n",
       "      <td>2597000006</td>\n",
       "      <td>20150309T000000</td>\n",
       "      <td>347500.0</td>\n",
       "      <td>3</td>\n",
       "      <td>1.50</td>\n",
       "      <td>1180</td>\n",
       "      <td>8353</td>\n",
       "      <td>1.0</td>\n",
       "      <td>0</td>\n",
       "      <td>0</td>\n",
       "      <td>3</td>\n",
       "      <td>7</td>\n",
       "      <td>1180</td>\n",
       "      <td>0</td>\n",
       "      <td>1960</td>\n",
       "      <td>0</td>\n",
       "      <td>98155</td>\n",
       "      <td>1710</td>\n",
       "      <td>8748</td>\n",
       "    </tr>\n",
       "    <tr>\n",
       "      <th>1</th>\n",
       "      <td>8813400345</td>\n",
       "      <td>20150414T000000</td>\n",
       "      <td>575000.0</td>\n",
       "      <td>2</td>\n",
       "      <td>1.00</td>\n",
       "      <td>980</td>\n",
       "      <td>3663</td>\n",
       "      <td>1.0</td>\n",
       "      <td>0</td>\n",
       "      <td>0</td>\n",
       "      <td>5</td>\n",
       "      <td>7</td>\n",
       "      <td>980</td>\n",
       "      <td>0</td>\n",
       "      <td>1909</td>\n",
       "      <td>0</td>\n",
       "      <td>98105</td>\n",
       "      <td>1620</td>\n",
       "      <td>3706</td>\n",
       "    </tr>\n",
       "    <tr>\n",
       "      <th>2</th>\n",
       "      <td>226059106</td>\n",
       "      <td>20150102T000000</td>\n",
       "      <td>489500.0</td>\n",
       "      <td>3</td>\n",
       "      <td>1.75</td>\n",
       "      <td>2090</td>\n",
       "      <td>65558</td>\n",
       "      <td>1.0</td>\n",
       "      <td>0</td>\n",
       "      <td>0</td>\n",
       "      <td>3</td>\n",
       "      <td>8</td>\n",
       "      <td>1330</td>\n",
       "      <td>760</td>\n",
       "      <td>1977</td>\n",
       "      <td>0</td>\n",
       "      <td>98072</td>\n",
       "      <td>2450</td>\n",
       "      <td>47178</td>\n",
       "    </tr>\n",
       "  </tbody>\n",
       "</table>\n",
       "</div>"
      ],
      "text/plain": [
       "           id             date     price  bedrooms  bathrooms  sqft_living  \\\n",
       "0  2597000006  20150309T000000  347500.0         3       1.50         1180   \n",
       "1  8813400345  20150414T000000  575000.0         2       1.00          980   \n",
       "2   226059106  20150102T000000  489500.0         3       1.75         2090   \n",
       "\n",
       "   sqft_lot  floors  waterfront  view  condition  grade  sqft_above  \\\n",
       "0      8353     1.0           0     0          3      7        1180   \n",
       "1      3663     1.0           0     0          5      7         980   \n",
       "2     65558     1.0           0     0          3      8        1330   \n",
       "\n",
       "   sqft_basement  yr_built  yr_renovated  zipcode  sqft_living15  sqft_lot15  \n",
       "0              0      1960             0    98155           1710        8748  \n",
       "1              0      1909             0    98105           1620        3706  \n",
       "2            760      1977             0    98072           2450       47178  "
      ]
     },
     "execution_count": 2,
     "metadata": {},
     "output_type": "execute_result"
    }
   ],
   "source": [
    "data6=pd.read_csv('../Dataset/Dataset_06.csv')\n",
    "data6.head(3)"
   ]
  },
  {
   "cell_type": "code",
   "execution_count": 3,
   "id": "7bccd5de",
   "metadata": {},
   "outputs": [
    {
     "name": "stdout",
     "output_type": "stream",
     "text": [
      "<class 'pandas.core.frame.DataFrame'>\n",
      "RangeIndex: 4323 entries, 0 to 4322\n",
      "Data columns (total 19 columns):\n",
      " #   Column         Non-Null Count  Dtype  \n",
      "---  ------         --------------  -----  \n",
      " 0   id             4323 non-null   int64  \n",
      " 1   date           4323 non-null   object \n",
      " 2   price          4323 non-null   float64\n",
      " 3   bedrooms       4323 non-null   int64  \n",
      " 4   bathrooms      4323 non-null   float64\n",
      " 5   sqft_living    4323 non-null   int64  \n",
      " 6   sqft_lot       4323 non-null   int64  \n",
      " 7   floors         4323 non-null   float64\n",
      " 8   waterfront     4323 non-null   int64  \n",
      " 9   view           4323 non-null   int64  \n",
      " 10  condition      4323 non-null   int64  \n",
      " 11  grade          4323 non-null   int64  \n",
      " 12  sqft_above     4323 non-null   int64  \n",
      " 13  sqft_basement  4323 non-null   int64  \n",
      " 14  yr_built       4323 non-null   int64  \n",
      " 15  yr_renovated   4323 non-null   int64  \n",
      " 16  zipcode        4323 non-null   int64  \n",
      " 17  sqft_living15  4323 non-null   int64  \n",
      " 18  sqft_lot15     4323 non-null   int64  \n",
      "dtypes: float64(3), int64(15), object(1)\n",
      "memory usage: 641.8+ KB\n"
     ]
    }
   ],
   "source": [
    "data6.info()"
   ]
  },
  {
   "cell_type": "code",
   "execution_count": 4,
   "id": "53ca4dc5",
   "metadata": {},
   "outputs": [
    {
     "name": "stdout",
     "output_type": "stream",
     "text": [
      "<class 'pandas.core.frame.DataFrame'>\n",
      "RangeIndex: 4323 entries, 0 to 4322\n",
      "Data columns (total 19 columns):\n",
      " #   Column         Non-Null Count  Dtype         \n",
      "---  ------         --------------  -----         \n",
      " 0   id             4323 non-null   int64         \n",
      " 1   date           4323 non-null   datetime64[ns]\n",
      " 2   price          4323 non-null   float64       \n",
      " 3   bedrooms       4323 non-null   int64         \n",
      " 4   bathrooms      4323 non-null   float64       \n",
      " 5   sqft_living    4323 non-null   int64         \n",
      " 6   sqft_lot       4323 non-null   int64         \n",
      " 7   floors         4323 non-null   float64       \n",
      " 8   waterfront     4323 non-null   int64         \n",
      " 9   view           4323 non-null   int64         \n",
      " 10  condition      4323 non-null   int64         \n",
      " 11  grade          4323 non-null   int64         \n",
      " 12  sqft_above     4323 non-null   int64         \n",
      " 13  sqft_basement  4323 non-null   int64         \n",
      " 14  yr_built       4323 non-null   int64         \n",
      " 15  yr_renovated   4323 non-null   int64         \n",
      " 16  zipcode        4323 non-null   int64         \n",
      " 17  sqft_living15  4323 non-null   int64         \n",
      " 18  sqft_lot15     4323 non-null   int64         \n",
      "dtypes: datetime64[ns](1), float64(3), int64(15)\n",
      "memory usage: 641.8 KB\n"
     ]
    }
   ],
   "source": [
    "data6['date']=pd.to_datetime(data6['date'])\n",
    "data6.info()"
   ]
  },
  {
   "cell_type": "code",
   "execution_count": 7,
   "id": "38a7498b",
   "metadata": {},
   "outputs": [
    {
     "data": {
      "text/plain": [
       "0        Monday\n",
       "1       Tuesday\n",
       "2        Friday\n",
       "3       Tuesday\n",
       "4        Friday\n",
       "         ...   \n",
       "4318    Tuesday\n",
       "4319    Tuesday\n",
       "4320     Friday\n",
       "4321     Friday\n",
       "4322     Monday\n",
       "Name: date, Length: 4323, dtype: object"
      ]
     },
     "execution_count": 7,
     "metadata": {},
     "output_type": "execute_result"
    }
   ],
   "source": [
    "data6.date.dt.day_name()"
   ]
  },
  {
   "cell_type": "code",
   "execution_count": 8,
   "id": "929186d6",
   "metadata": {},
   "outputs": [],
   "source": [
    "import locale"
   ]
  },
  {
   "cell_type": "code",
   "execution_count": 9,
   "id": "46252ad6",
   "metadata": {},
   "outputs": [
    {
     "data": {
      "text/plain": [
       "{'a3': 'az_AZ.KOI8-C',\n",
       " 'a3_az': 'az_AZ.KOI8-C',\n",
       " 'a3_az.koic': 'az_AZ.KOI8-C',\n",
       " 'aa_dj': 'aa_DJ.ISO8859-1',\n",
       " 'aa_er': 'aa_ER.UTF-8',\n",
       " 'aa_et': 'aa_ET.UTF-8',\n",
       " 'af': 'af_ZA.ISO8859-1',\n",
       " 'af_za': 'af_ZA.ISO8859-1',\n",
       " 'agr_pe': 'agr_PE.UTF-8',\n",
       " 'ak_gh': 'ak_GH.UTF-8',\n",
       " 'am': 'am_ET.UTF-8',\n",
       " 'am_et': 'am_ET.UTF-8',\n",
       " 'american': 'en_US.ISO8859-1',\n",
       " 'an_es': 'an_ES.ISO8859-15',\n",
       " 'anp_in': 'anp_IN.UTF-8',\n",
       " 'ar': 'ar_AA.ISO8859-6',\n",
       " 'ar_aa': 'ar_AA.ISO8859-6',\n",
       " 'ar_ae': 'ar_AE.ISO8859-6',\n",
       " 'ar_bh': 'ar_BH.ISO8859-6',\n",
       " 'ar_dz': 'ar_DZ.ISO8859-6',\n",
       " 'ar_eg': 'ar_EG.ISO8859-6',\n",
       " 'ar_in': 'ar_IN.UTF-8',\n",
       " 'ar_iq': 'ar_IQ.ISO8859-6',\n",
       " 'ar_jo': 'ar_JO.ISO8859-6',\n",
       " 'ar_kw': 'ar_KW.ISO8859-6',\n",
       " 'ar_lb': 'ar_LB.ISO8859-6',\n",
       " 'ar_ly': 'ar_LY.ISO8859-6',\n",
       " 'ar_ma': 'ar_MA.ISO8859-6',\n",
       " 'ar_om': 'ar_OM.ISO8859-6',\n",
       " 'ar_qa': 'ar_QA.ISO8859-6',\n",
       " 'ar_sa': 'ar_SA.ISO8859-6',\n",
       " 'ar_sd': 'ar_SD.ISO8859-6',\n",
       " 'ar_ss': 'ar_SS.UTF-8',\n",
       " 'ar_sy': 'ar_SY.ISO8859-6',\n",
       " 'ar_tn': 'ar_TN.ISO8859-6',\n",
       " 'ar_ye': 'ar_YE.ISO8859-6',\n",
       " 'arabic': 'ar_AA.ISO8859-6',\n",
       " 'as': 'as_IN.UTF-8',\n",
       " 'as_in': 'as_IN.UTF-8',\n",
       " 'ast_es': 'ast_ES.ISO8859-15',\n",
       " 'ayc_pe': 'ayc_PE.UTF-8',\n",
       " 'az': 'az_AZ.ISO8859-9E',\n",
       " 'az_az': 'az_AZ.ISO8859-9E',\n",
       " 'az_az.iso88599e': 'az_AZ.ISO8859-9E',\n",
       " 'az_ir': 'az_IR.UTF-8',\n",
       " 'be': 'be_BY.CP1251',\n",
       " 'be@latin': 'be_BY.UTF-8@latin',\n",
       " 'be_bg.utf8': 'bg_BG.UTF-8',\n",
       " 'be_by': 'be_BY.CP1251',\n",
       " 'be_by@latin': 'be_BY.UTF-8@latin',\n",
       " 'bem_zm': 'bem_ZM.UTF-8',\n",
       " 'ber_dz': 'ber_DZ.UTF-8',\n",
       " 'ber_ma': 'ber_MA.UTF-8',\n",
       " 'bg': 'bg_BG.CP1251',\n",
       " 'bg_bg': 'bg_BG.CP1251',\n",
       " 'bhb_in.utf8': 'bhb_IN.UTF-8',\n",
       " 'bho_in': 'bho_IN.UTF-8',\n",
       " 'bho_np': 'bho_NP.UTF-8',\n",
       " 'bi_vu': 'bi_VU.UTF-8',\n",
       " 'bn_bd': 'bn_BD.UTF-8',\n",
       " 'bn_in': 'bn_IN.UTF-8',\n",
       " 'bo_cn': 'bo_CN.UTF-8',\n",
       " 'bo_in': 'bo_IN.UTF-8',\n",
       " 'bokmal': 'nb_NO.ISO8859-1',\n",
       " 'bokmål': 'nb_NO.ISO8859-1',\n",
       " 'br': 'br_FR.ISO8859-1',\n",
       " 'br_fr': 'br_FR.ISO8859-1',\n",
       " 'brx_in': 'brx_IN.UTF-8',\n",
       " 'bs': 'bs_BA.ISO8859-2',\n",
       " 'bs_ba': 'bs_BA.ISO8859-2',\n",
       " 'bulgarian': 'bg_BG.CP1251',\n",
       " 'byn_er': 'byn_ER.UTF-8',\n",
       " 'c': 'C',\n",
       " 'c-french': 'fr_CA.ISO8859-1',\n",
       " 'c.ascii': 'C',\n",
       " 'c.en': 'C',\n",
       " 'c.iso88591': 'en_US.ISO8859-1',\n",
       " 'c.utf8': 'en_US.UTF-8',\n",
       " 'c_c': 'C',\n",
       " 'c_c.c': 'C',\n",
       " 'ca': 'ca_ES.ISO8859-1',\n",
       " 'ca_ad': 'ca_AD.ISO8859-1',\n",
       " 'ca_es': 'ca_ES.ISO8859-1',\n",
       " 'ca_es@valencia': 'ca_ES.UTF-8@valencia',\n",
       " 'ca_fr': 'ca_FR.ISO8859-1',\n",
       " 'ca_it': 'ca_IT.ISO8859-1',\n",
       " 'catalan': 'ca_ES.ISO8859-1',\n",
       " 'ce_ru': 'ce_RU.UTF-8',\n",
       " 'cextend': 'en_US.ISO8859-1',\n",
       " 'chinese-s': 'zh_CN.eucCN',\n",
       " 'chinese-t': 'zh_TW.eucTW',\n",
       " 'chr_us': 'chr_US.UTF-8',\n",
       " 'ckb_iq': 'ckb_IQ.UTF-8',\n",
       " 'cmn_tw': 'cmn_TW.UTF-8',\n",
       " 'crh_ua': 'crh_UA.UTF-8',\n",
       " 'croatian': 'hr_HR.ISO8859-2',\n",
       " 'cs': 'cs_CZ.ISO8859-2',\n",
       " 'cs_cs': 'cs_CZ.ISO8859-2',\n",
       " 'cs_cz': 'cs_CZ.ISO8859-2',\n",
       " 'csb_pl': 'csb_PL.UTF-8',\n",
       " 'cv_ru': 'cv_RU.UTF-8',\n",
       " 'cy': 'cy_GB.ISO8859-1',\n",
       " 'cy_gb': 'cy_GB.ISO8859-1',\n",
       " 'cz': 'cs_CZ.ISO8859-2',\n",
       " 'cz_cz': 'cs_CZ.ISO8859-2',\n",
       " 'czech': 'cs_CZ.ISO8859-2',\n",
       " 'da': 'da_DK.ISO8859-1',\n",
       " 'da_dk': 'da_DK.ISO8859-1',\n",
       " 'danish': 'da_DK.ISO8859-1',\n",
       " 'dansk': 'da_DK.ISO8859-1',\n",
       " 'de': 'de_DE.ISO8859-1',\n",
       " 'de_at': 'de_AT.ISO8859-1',\n",
       " 'de_be': 'de_BE.ISO8859-1',\n",
       " 'de_ch': 'de_CH.ISO8859-1',\n",
       " 'de_de': 'de_DE.ISO8859-1',\n",
       " 'de_it': 'de_IT.ISO8859-1',\n",
       " 'de_li.utf8': 'de_LI.UTF-8',\n",
       " 'de_lu': 'de_LU.ISO8859-1',\n",
       " 'deutsch': 'de_DE.ISO8859-1',\n",
       " 'doi_in': 'doi_IN.UTF-8',\n",
       " 'dutch': 'nl_NL.ISO8859-1',\n",
       " 'dutch.iso88591': 'nl_BE.ISO8859-1',\n",
       " 'dv_mv': 'dv_MV.UTF-8',\n",
       " 'dz_bt': 'dz_BT.UTF-8',\n",
       " 'ee': 'ee_EE.ISO8859-4',\n",
       " 'ee_ee': 'ee_EE.ISO8859-4',\n",
       " 'eesti': 'et_EE.ISO8859-1',\n",
       " 'el': 'el_GR.ISO8859-7',\n",
       " 'el_cy': 'el_CY.ISO8859-7',\n",
       " 'el_gr': 'el_GR.ISO8859-7',\n",
       " 'el_gr@euro': 'el_GR.ISO8859-15',\n",
       " 'en': 'en_US.ISO8859-1',\n",
       " 'en_ag': 'en_AG.UTF-8',\n",
       " 'en_au': 'en_AU.ISO8859-1',\n",
       " 'en_be': 'en_BE.ISO8859-1',\n",
       " 'en_bw': 'en_BW.ISO8859-1',\n",
       " 'en_ca': 'en_CA.ISO8859-1',\n",
       " 'en_dk': 'en_DK.ISO8859-1',\n",
       " 'en_dl.utf8': 'en_DL.UTF-8',\n",
       " 'en_gb': 'en_GB.ISO8859-1',\n",
       " 'en_hk': 'en_HK.ISO8859-1',\n",
       " 'en_ie': 'en_IE.ISO8859-1',\n",
       " 'en_il': 'en_IL.UTF-8',\n",
       " 'en_in': 'en_IN.ISO8859-1',\n",
       " 'en_ng': 'en_NG.UTF-8',\n",
       " 'en_nz': 'en_NZ.ISO8859-1',\n",
       " 'en_ph': 'en_PH.ISO8859-1',\n",
       " 'en_sc.utf8': 'en_SC.UTF-8',\n",
       " 'en_sg': 'en_SG.ISO8859-1',\n",
       " 'en_uk': 'en_GB.ISO8859-1',\n",
       " 'en_us': 'en_US.ISO8859-1',\n",
       " 'en_us@euro@euro': 'en_US.ISO8859-15',\n",
       " 'en_za': 'en_ZA.ISO8859-1',\n",
       " 'en_zm': 'en_ZM.UTF-8',\n",
       " 'en_zw': 'en_ZW.ISO8859-1',\n",
       " 'en_zw.utf8': 'en_ZS.UTF-8',\n",
       " 'eng_gb': 'en_GB.ISO8859-1',\n",
       " 'english': 'en_EN.ISO8859-1',\n",
       " 'english.iso88591': 'en_US.ISO8859-1',\n",
       " 'english_uk': 'en_GB.ISO8859-1',\n",
       " 'english_united-states': 'en_US.ISO8859-1',\n",
       " 'english_united-states.437': 'C',\n",
       " 'english_us': 'en_US.ISO8859-1',\n",
       " 'eo': 'eo_XX.ISO8859-3',\n",
       " 'eo.utf8': 'eo.UTF-8',\n",
       " 'eo_eo': 'eo_EO.ISO8859-3',\n",
       " 'eo_us.utf8': 'eo_US.UTF-8',\n",
       " 'eo_xx': 'eo_XX.ISO8859-3',\n",
       " 'es': 'es_ES.ISO8859-1',\n",
       " 'es_ar': 'es_AR.ISO8859-1',\n",
       " 'es_bo': 'es_BO.ISO8859-1',\n",
       " 'es_cl': 'es_CL.ISO8859-1',\n",
       " 'es_co': 'es_CO.ISO8859-1',\n",
       " 'es_cr': 'es_CR.ISO8859-1',\n",
       " 'es_cu': 'es_CU.UTF-8',\n",
       " 'es_do': 'es_DO.ISO8859-1',\n",
       " 'es_ec': 'es_EC.ISO8859-1',\n",
       " 'es_es': 'es_ES.ISO8859-1',\n",
       " 'es_gt': 'es_GT.ISO8859-1',\n",
       " 'es_hn': 'es_HN.ISO8859-1',\n",
       " 'es_mx': 'es_MX.ISO8859-1',\n",
       " 'es_ni': 'es_NI.ISO8859-1',\n",
       " 'es_pa': 'es_PA.ISO8859-1',\n",
       " 'es_pe': 'es_PE.ISO8859-1',\n",
       " 'es_pr': 'es_PR.ISO8859-1',\n",
       " 'es_py': 'es_PY.ISO8859-1',\n",
       " 'es_sv': 'es_SV.ISO8859-1',\n",
       " 'es_us': 'es_US.ISO8859-1',\n",
       " 'es_uy': 'es_UY.ISO8859-1',\n",
       " 'es_ve': 'es_VE.ISO8859-1',\n",
       " 'estonian': 'et_EE.ISO8859-1',\n",
       " 'et': 'et_EE.ISO8859-15',\n",
       " 'et_ee': 'et_EE.ISO8859-15',\n",
       " 'eu': 'eu_ES.ISO8859-1',\n",
       " 'eu_es': 'eu_ES.ISO8859-1',\n",
       " 'eu_fr': 'eu_FR.ISO8859-1',\n",
       " 'fa': 'fa_IR.UTF-8',\n",
       " 'fa_ir': 'fa_IR.UTF-8',\n",
       " 'fa_ir.isiri3342': 'fa_IR.ISIRI-3342',\n",
       " 'ff_sn': 'ff_SN.UTF-8',\n",
       " 'fi': 'fi_FI.ISO8859-15',\n",
       " 'fi_fi': 'fi_FI.ISO8859-15',\n",
       " 'fil_ph': 'fil_PH.UTF-8',\n",
       " 'finnish': 'fi_FI.ISO8859-1',\n",
       " 'fo': 'fo_FO.ISO8859-1',\n",
       " 'fo_fo': 'fo_FO.ISO8859-1',\n",
       " 'fr': 'fr_FR.ISO8859-1',\n",
       " 'fr_be': 'fr_BE.ISO8859-1',\n",
       " 'fr_ca': 'fr_CA.ISO8859-1',\n",
       " 'fr_ch': 'fr_CH.ISO8859-1',\n",
       " 'fr_fr': 'fr_FR.ISO8859-1',\n",
       " 'fr_lu': 'fr_LU.ISO8859-1',\n",
       " 'français': 'fr_FR.ISO8859-1',\n",
       " 'fre_fr': 'fr_FR.ISO8859-1',\n",
       " 'french': 'fr_FR.ISO8859-1',\n",
       " 'french.iso88591': 'fr_CH.ISO8859-1',\n",
       " 'french_france': 'fr_FR.ISO8859-1',\n",
       " 'fur_it': 'fur_IT.UTF-8',\n",
       " 'fy_de': 'fy_DE.UTF-8',\n",
       " 'fy_nl': 'fy_NL.UTF-8',\n",
       " 'ga': 'ga_IE.ISO8859-1',\n",
       " 'ga_ie': 'ga_IE.ISO8859-1',\n",
       " 'galego': 'gl_ES.ISO8859-1',\n",
       " 'galician': 'gl_ES.ISO8859-1',\n",
       " 'gd': 'gd_GB.ISO8859-1',\n",
       " 'gd_gb': 'gd_GB.ISO8859-1',\n",
       " 'ger_de': 'de_DE.ISO8859-1',\n",
       " 'german': 'de_DE.ISO8859-1',\n",
       " 'german.iso88591': 'de_CH.ISO8859-1',\n",
       " 'german_germany': 'de_DE.ISO8859-1',\n",
       " 'gez_er': 'gez_ER.UTF-8',\n",
       " 'gez_et': 'gez_ET.UTF-8',\n",
       " 'gl': 'gl_ES.ISO8859-1',\n",
       " 'gl_es': 'gl_ES.ISO8859-1',\n",
       " 'greek': 'el_GR.ISO8859-7',\n",
       " 'gu_in': 'gu_IN.UTF-8',\n",
       " 'gv': 'gv_GB.ISO8859-1',\n",
       " 'gv_gb': 'gv_GB.ISO8859-1',\n",
       " 'ha_ng': 'ha_NG.UTF-8',\n",
       " 'hak_tw': 'hak_TW.UTF-8',\n",
       " 'he': 'he_IL.ISO8859-8',\n",
       " 'he_il': 'he_IL.ISO8859-8',\n",
       " 'hebrew': 'he_IL.ISO8859-8',\n",
       " 'hi': 'hi_IN.ISCII-DEV',\n",
       " 'hi_in': 'hi_IN.ISCII-DEV',\n",
       " 'hi_in.isciidev': 'hi_IN.ISCII-DEV',\n",
       " 'hif_fj': 'hif_FJ.UTF-8',\n",
       " 'hne': 'hne_IN.UTF-8',\n",
       " 'hne_in': 'hne_IN.UTF-8',\n",
       " 'hr': 'hr_HR.ISO8859-2',\n",
       " 'hr_hr': 'hr_HR.ISO8859-2',\n",
       " 'hrvatski': 'hr_HR.ISO8859-2',\n",
       " 'hsb_de': 'hsb_DE.ISO8859-2',\n",
       " 'ht_ht': 'ht_HT.UTF-8',\n",
       " 'hu': 'hu_HU.ISO8859-2',\n",
       " 'hu_hu': 'hu_HU.ISO8859-2',\n",
       " 'hungarian': 'hu_HU.ISO8859-2',\n",
       " 'hy_am': 'hy_AM.UTF-8',\n",
       " 'hy_am.armscii8': 'hy_AM.ARMSCII_8',\n",
       " 'ia': 'ia.UTF-8',\n",
       " 'ia_fr': 'ia_FR.UTF-8',\n",
       " 'icelandic': 'is_IS.ISO8859-1',\n",
       " 'id': 'id_ID.ISO8859-1',\n",
       " 'id_id': 'id_ID.ISO8859-1',\n",
       " 'ig_ng': 'ig_NG.UTF-8',\n",
       " 'ik_ca': 'ik_CA.UTF-8',\n",
       " 'in': 'id_ID.ISO8859-1',\n",
       " 'in_id': 'id_ID.ISO8859-1',\n",
       " 'is': 'is_IS.ISO8859-1',\n",
       " 'is_is': 'is_IS.ISO8859-1',\n",
       " 'iso-8859-1': 'en_US.ISO8859-1',\n",
       " 'iso-8859-15': 'en_US.ISO8859-15',\n",
       " 'iso8859-1': 'en_US.ISO8859-1',\n",
       " 'iso8859-15': 'en_US.ISO8859-15',\n",
       " 'iso_8859_1': 'en_US.ISO8859-1',\n",
       " 'iso_8859_15': 'en_US.ISO8859-15',\n",
       " 'it': 'it_IT.ISO8859-1',\n",
       " 'it_ch': 'it_CH.ISO8859-1',\n",
       " 'it_it': 'it_IT.ISO8859-1',\n",
       " 'italian': 'it_IT.ISO8859-1',\n",
       " 'iu': 'iu_CA.NUNACOM-8',\n",
       " 'iu_ca': 'iu_CA.NUNACOM-8',\n",
       " 'iu_ca.nunacom8': 'iu_CA.NUNACOM-8',\n",
       " 'iw': 'he_IL.ISO8859-8',\n",
       " 'iw_il': 'he_IL.ISO8859-8',\n",
       " 'iw_il.utf8': 'iw_IL.UTF-8',\n",
       " 'ja': 'ja_JP.eucJP',\n",
       " 'ja_jp': 'ja_JP.eucJP',\n",
       " 'ja_jp.euc': 'ja_JP.eucJP',\n",
       " 'ja_jp.mscode': 'ja_JP.SJIS',\n",
       " 'ja_jp.pck': 'ja_JP.SJIS',\n",
       " 'japan': 'ja_JP.eucJP',\n",
       " 'japanese': 'ja_JP.eucJP',\n",
       " 'japanese-euc': 'ja_JP.eucJP',\n",
       " 'japanese.euc': 'ja_JP.eucJP',\n",
       " 'jp_jp': 'ja_JP.eucJP',\n",
       " 'ka': 'ka_GE.GEORGIAN-ACADEMY',\n",
       " 'ka_ge': 'ka_GE.GEORGIAN-ACADEMY',\n",
       " 'ka_ge.georgianacademy': 'ka_GE.GEORGIAN-ACADEMY',\n",
       " 'ka_ge.georgianps': 'ka_GE.GEORGIAN-PS',\n",
       " 'ka_ge.georgianrs': 'ka_GE.GEORGIAN-ACADEMY',\n",
       " 'kab_dz': 'kab_DZ.UTF-8',\n",
       " 'kk_kz': 'kk_KZ.ptcp154',\n",
       " 'kl': 'kl_GL.ISO8859-1',\n",
       " 'kl_gl': 'kl_GL.ISO8859-1',\n",
       " 'km_kh': 'km_KH.UTF-8',\n",
       " 'kn': 'kn_IN.UTF-8',\n",
       " 'kn_in': 'kn_IN.UTF-8',\n",
       " 'ko': 'ko_KR.eucKR',\n",
       " 'ko_kr': 'ko_KR.eucKR',\n",
       " 'ko_kr.euc': 'ko_KR.eucKR',\n",
       " 'kok_in': 'kok_IN.UTF-8',\n",
       " 'korean': 'ko_KR.eucKR',\n",
       " 'korean.euc': 'ko_KR.eucKR',\n",
       " 'ks': 'ks_IN.UTF-8',\n",
       " 'ks_in': 'ks_IN.UTF-8',\n",
       " 'ks_in@devanagari.utf8': 'ks_IN.UTF-8@devanagari',\n",
       " 'ku_tr': 'ku_TR.ISO8859-9',\n",
       " 'kw': 'kw_GB.ISO8859-1',\n",
       " 'kw_gb': 'kw_GB.ISO8859-1',\n",
       " 'ky': 'ky_KG.UTF-8',\n",
       " 'ky_kg': 'ky_KG.UTF-8',\n",
       " 'lb_lu': 'lb_LU.UTF-8',\n",
       " 'lg_ug': 'lg_UG.ISO8859-10',\n",
       " 'li_be': 'li_BE.UTF-8',\n",
       " 'li_nl': 'li_NL.UTF-8',\n",
       " 'lij_it': 'lij_IT.UTF-8',\n",
       " 'lithuanian': 'lt_LT.ISO8859-13',\n",
       " 'ln_cd': 'ln_CD.UTF-8',\n",
       " 'lo': 'lo_LA.MULELAO-1',\n",
       " 'lo_la': 'lo_LA.MULELAO-1',\n",
       " 'lo_la.cp1133': 'lo_LA.IBM-CP1133',\n",
       " 'lo_la.ibmcp1133': 'lo_LA.IBM-CP1133',\n",
       " 'lo_la.mulelao1': 'lo_LA.MULELAO-1',\n",
       " 'lt': 'lt_LT.ISO8859-13',\n",
       " 'lt_lt': 'lt_LT.ISO8859-13',\n",
       " 'lv': 'lv_LV.ISO8859-13',\n",
       " 'lv_lv': 'lv_LV.ISO8859-13',\n",
       " 'lzh_tw': 'lzh_TW.UTF-8',\n",
       " 'mag_in': 'mag_IN.UTF-8',\n",
       " 'mai': 'mai_IN.UTF-8',\n",
       " 'mai_in': 'mai_IN.UTF-8',\n",
       " 'mai_np': 'mai_NP.UTF-8',\n",
       " 'mfe_mu': 'mfe_MU.UTF-8',\n",
       " 'mg_mg': 'mg_MG.ISO8859-15',\n",
       " 'mhr_ru': 'mhr_RU.UTF-8',\n",
       " 'mi': 'mi_NZ.ISO8859-1',\n",
       " 'mi_nz': 'mi_NZ.ISO8859-1',\n",
       " 'miq_ni': 'miq_NI.UTF-8',\n",
       " 'mjw_in': 'mjw_IN.UTF-8',\n",
       " 'mk': 'mk_MK.ISO8859-5',\n",
       " 'mk_mk': 'mk_MK.ISO8859-5',\n",
       " 'ml': 'ml_IN.UTF-8',\n",
       " 'ml_in': 'ml_IN.UTF-8',\n",
       " 'mn_mn': 'mn_MN.UTF-8',\n",
       " 'mni_in': 'mni_IN.UTF-8',\n",
       " 'mr': 'mr_IN.UTF-8',\n",
       " 'mr_in': 'mr_IN.UTF-8',\n",
       " 'ms': 'ms_MY.ISO8859-1',\n",
       " 'ms_my': 'ms_MY.ISO8859-1',\n",
       " 'mt': 'mt_MT.ISO8859-3',\n",
       " 'mt_mt': 'mt_MT.ISO8859-3',\n",
       " 'my_mm': 'my_MM.UTF-8',\n",
       " 'nan_tw': 'nan_TW.UTF-8',\n",
       " 'nb': 'nb_NO.ISO8859-1',\n",
       " 'nb_no': 'nb_NO.ISO8859-1',\n",
       " 'nds_de': 'nds_DE.UTF-8',\n",
       " 'nds_nl': 'nds_NL.UTF-8',\n",
       " 'ne_np': 'ne_NP.UTF-8',\n",
       " 'nhn_mx': 'nhn_MX.UTF-8',\n",
       " 'niu_nu': 'niu_NU.UTF-8',\n",
       " 'niu_nz': 'niu_NZ.UTF-8',\n",
       " 'nl': 'nl_NL.ISO8859-1',\n",
       " 'nl_aw': 'nl_AW.UTF-8',\n",
       " 'nl_be': 'nl_BE.ISO8859-1',\n",
       " 'nl_nl': 'nl_NL.ISO8859-1',\n",
       " 'nn': 'nn_NO.ISO8859-1',\n",
       " 'nn_no': 'nn_NO.ISO8859-1',\n",
       " 'no': 'no_NO.ISO8859-1',\n",
       " 'no@nynorsk': 'ny_NO.ISO8859-1',\n",
       " 'no_no': 'no_NO.ISO8859-1',\n",
       " 'no_no.iso88591@bokmal': 'no_NO.ISO8859-1',\n",
       " 'no_no.iso88591@nynorsk': 'no_NO.ISO8859-1',\n",
       " 'norwegian': 'no_NO.ISO8859-1',\n",
       " 'nr': 'nr_ZA.ISO8859-1',\n",
       " 'nr_za': 'nr_ZA.ISO8859-1',\n",
       " 'nso': 'nso_ZA.ISO8859-15',\n",
       " 'nso_za': 'nso_ZA.ISO8859-15',\n",
       " 'ny': 'ny_NO.ISO8859-1',\n",
       " 'ny_no': 'ny_NO.ISO8859-1',\n",
       " 'nynorsk': 'nn_NO.ISO8859-1',\n",
       " 'oc': 'oc_FR.ISO8859-1',\n",
       " 'oc_fr': 'oc_FR.ISO8859-1',\n",
       " 'om_et': 'om_ET.UTF-8',\n",
       " 'om_ke': 'om_KE.ISO8859-1',\n",
       " 'or': 'or_IN.UTF-8',\n",
       " 'or_in': 'or_IN.UTF-8',\n",
       " 'os_ru': 'os_RU.UTF-8',\n",
       " 'pa': 'pa_IN.UTF-8',\n",
       " 'pa_in': 'pa_IN.UTF-8',\n",
       " 'pa_pk': 'pa_PK.UTF-8',\n",
       " 'pap_an': 'pap_AN.UTF-8',\n",
       " 'pap_aw': 'pap_AW.UTF-8',\n",
       " 'pap_cw': 'pap_CW.UTF-8',\n",
       " 'pd': 'pd_US.ISO8859-1',\n",
       " 'pd_de': 'pd_DE.ISO8859-1',\n",
       " 'pd_us': 'pd_US.ISO8859-1',\n",
       " 'ph': 'ph_PH.ISO8859-1',\n",
       " 'ph_ph': 'ph_PH.ISO8859-1',\n",
       " 'pl': 'pl_PL.ISO8859-2',\n",
       " 'pl_pl': 'pl_PL.ISO8859-2',\n",
       " 'polish': 'pl_PL.ISO8859-2',\n",
       " 'portuguese': 'pt_PT.ISO8859-1',\n",
       " 'portuguese_brazil': 'pt_BR.ISO8859-1',\n",
       " 'posix': 'C',\n",
       " 'posix-utf2': 'C',\n",
       " 'pp': 'pp_AN.ISO8859-1',\n",
       " 'pp_an': 'pp_AN.ISO8859-1',\n",
       " 'ps_af': 'ps_AF.UTF-8',\n",
       " 'pt': 'pt_PT.ISO8859-1',\n",
       " 'pt_br': 'pt_BR.ISO8859-1',\n",
       " 'pt_pt': 'pt_PT.ISO8859-1',\n",
       " 'quz_pe': 'quz_PE.UTF-8',\n",
       " 'raj_in': 'raj_IN.UTF-8',\n",
       " 'ro': 'ro_RO.ISO8859-2',\n",
       " 'ro_ro': 'ro_RO.ISO8859-2',\n",
       " 'romanian': 'ro_RO.ISO8859-2',\n",
       " 'ru': 'ru_RU.UTF-8',\n",
       " 'ru_ru': 'ru_RU.UTF-8',\n",
       " 'ru_ua': 'ru_UA.KOI8-U',\n",
       " 'rumanian': 'ro_RO.ISO8859-2',\n",
       " 'russian': 'ru_RU.KOI8-R',\n",
       " 'rw': 'rw_RW.ISO8859-1',\n",
       " 'rw_rw': 'rw_RW.ISO8859-1',\n",
       " 'sa_in': 'sa_IN.UTF-8',\n",
       " 'sat_in': 'sat_IN.UTF-8',\n",
       " 'sc_it': 'sc_IT.UTF-8',\n",
       " 'sd': 'sd_IN.UTF-8',\n",
       " 'sd_in': 'sd_IN.UTF-8',\n",
       " 'sd_in@devanagari.utf8': 'sd_IN.UTF-8@devanagari',\n",
       " 'sd_pk': 'sd_PK.UTF-8',\n",
       " 'se_no': 'se_NO.UTF-8',\n",
       " 'serbocroatian': 'sr_RS.UTF-8@latin',\n",
       " 'sgs_lt': 'sgs_LT.UTF-8',\n",
       " 'sh': 'sr_RS.UTF-8@latin',\n",
       " 'sh_ba.iso88592@bosnia': 'sr_CS.ISO8859-2',\n",
       " 'sh_hr': 'sh_HR.ISO8859-2',\n",
       " 'sh_hr.iso88592': 'hr_HR.ISO8859-2',\n",
       " 'sh_sp': 'sr_CS.ISO8859-2',\n",
       " 'sh_yu': 'sr_RS.UTF-8@latin',\n",
       " 'shn_mm': 'shn_MM.UTF-8',\n",
       " 'shs_ca': 'shs_CA.UTF-8',\n",
       " 'si': 'si_LK.UTF-8',\n",
       " 'si_lk': 'si_LK.UTF-8',\n",
       " 'sid_et': 'sid_ET.UTF-8',\n",
       " 'sinhala': 'si_LK.UTF-8',\n",
       " 'sk': 'sk_SK.ISO8859-2',\n",
       " 'sk_sk': 'sk_SK.ISO8859-2',\n",
       " 'sl': 'sl_SI.ISO8859-2',\n",
       " 'sl_cs': 'sl_CS.ISO8859-2',\n",
       " 'sl_si': 'sl_SI.ISO8859-2',\n",
       " 'slovak': 'sk_SK.ISO8859-2',\n",
       " 'slovene': 'sl_SI.ISO8859-2',\n",
       " 'slovenian': 'sl_SI.ISO8859-2',\n",
       " 'sm_ws': 'sm_WS.UTF-8',\n",
       " 'so_dj': 'so_DJ.ISO8859-1',\n",
       " 'so_et': 'so_ET.UTF-8',\n",
       " 'so_ke': 'so_KE.ISO8859-1',\n",
       " 'so_so': 'so_SO.ISO8859-1',\n",
       " 'sp': 'sr_CS.ISO8859-5',\n",
       " 'sp_yu': 'sr_CS.ISO8859-5',\n",
       " 'spanish': 'es_ES.ISO8859-1',\n",
       " 'spanish_spain': 'es_ES.ISO8859-1',\n",
       " 'sq': 'sq_AL.ISO8859-2',\n",
       " 'sq_al': 'sq_AL.ISO8859-2',\n",
       " 'sq_mk': 'sq_MK.UTF-8',\n",
       " 'sr': 'sr_RS.UTF-8',\n",
       " 'sr@cyrillic': 'sr_RS.UTF-8',\n",
       " 'sr@latn': 'sr_CS.UTF-8@latin',\n",
       " 'sr_cs': 'sr_CS.UTF-8',\n",
       " 'sr_cs.iso88592@latn': 'sr_CS.ISO8859-2',\n",
       " 'sr_cs@latn': 'sr_CS.UTF-8@latin',\n",
       " 'sr_me': 'sr_ME.UTF-8',\n",
       " 'sr_rs': 'sr_RS.UTF-8',\n",
       " 'sr_rs@latn': 'sr_RS.UTF-8@latin',\n",
       " 'sr_sp': 'sr_CS.ISO8859-2',\n",
       " 'sr_yu': 'sr_RS.UTF-8@latin',\n",
       " 'sr_yu.cp1251@cyrillic': 'sr_CS.CP1251',\n",
       " 'sr_yu.iso88592': 'sr_CS.ISO8859-2',\n",
       " 'sr_yu.iso88595': 'sr_CS.ISO8859-5',\n",
       " 'sr_yu.iso88595@cyrillic': 'sr_CS.ISO8859-5',\n",
       " 'sr_yu.microsoftcp1251@cyrillic': 'sr_CS.CP1251',\n",
       " 'sr_yu.utf8': 'sr_RS.UTF-8',\n",
       " 'sr_yu.utf8@cyrillic': 'sr_RS.UTF-8',\n",
       " 'sr_yu@cyrillic': 'sr_RS.UTF-8',\n",
       " 'ss': 'ss_ZA.ISO8859-1',\n",
       " 'ss_za': 'ss_ZA.ISO8859-1',\n",
       " 'st': 'st_ZA.ISO8859-1',\n",
       " 'st_za': 'st_ZA.ISO8859-1',\n",
       " 'sv': 'sv_SE.ISO8859-1',\n",
       " 'sv_fi': 'sv_FI.ISO8859-1',\n",
       " 'sv_se': 'sv_SE.ISO8859-1',\n",
       " 'sw_ke': 'sw_KE.UTF-8',\n",
       " 'sw_tz': 'sw_TZ.UTF-8',\n",
       " 'swedish': 'sv_SE.ISO8859-1',\n",
       " 'szl_pl': 'szl_PL.UTF-8',\n",
       " 'ta': 'ta_IN.TSCII-0',\n",
       " 'ta_in': 'ta_IN.TSCII-0',\n",
       " 'ta_in.tscii': 'ta_IN.TSCII-0',\n",
       " 'ta_in.tscii0': 'ta_IN.TSCII-0',\n",
       " 'ta_lk': 'ta_LK.UTF-8',\n",
       " 'tcy_in.utf8': 'tcy_IN.UTF-8',\n",
       " 'te': 'te_IN.UTF-8',\n",
       " 'te_in': 'te_IN.UTF-8',\n",
       " 'tg': 'tg_TJ.KOI8-C',\n",
       " 'tg_tj': 'tg_TJ.KOI8-C',\n",
       " 'th': 'th_TH.ISO8859-11',\n",
       " 'th_th': 'th_TH.ISO8859-11',\n",
       " 'th_th.tactis': 'th_TH.TIS620',\n",
       " 'th_th.tis620': 'th_TH.TIS620',\n",
       " 'thai': 'th_TH.ISO8859-11',\n",
       " 'the_np': 'the_NP.UTF-8',\n",
       " 'ti_er': 'ti_ER.UTF-8',\n",
       " 'ti_et': 'ti_ET.UTF-8',\n",
       " 'tig_er': 'tig_ER.UTF-8',\n",
       " 'tk_tm': 'tk_TM.UTF-8',\n",
       " 'tl': 'tl_PH.ISO8859-1',\n",
       " 'tl_ph': 'tl_PH.ISO8859-1',\n",
       " 'tn': 'tn_ZA.ISO8859-15',\n",
       " 'tn_za': 'tn_ZA.ISO8859-15',\n",
       " 'to_to': 'to_TO.UTF-8',\n",
       " 'tpi_pg': 'tpi_PG.UTF-8',\n",
       " 'tr': 'tr_TR.ISO8859-9',\n",
       " 'tr_cy': 'tr_CY.ISO8859-9',\n",
       " 'tr_tr': 'tr_TR.ISO8859-9',\n",
       " 'ts': 'ts_ZA.ISO8859-1',\n",
       " 'ts_za': 'ts_ZA.ISO8859-1',\n",
       " 'tt': 'tt_RU.TATAR-CYR',\n",
       " 'tt_ru': 'tt_RU.TATAR-CYR',\n",
       " 'tt_ru.tatarcyr': 'tt_RU.TATAR-CYR',\n",
       " 'tt_ru@iqtelif': 'tt_RU.UTF-8@iqtelif',\n",
       " 'turkish': 'tr_TR.ISO8859-9',\n",
       " 'ug_cn': 'ug_CN.UTF-8',\n",
       " 'uk': 'uk_UA.KOI8-U',\n",
       " 'uk_ua': 'uk_UA.KOI8-U',\n",
       " 'univ': 'en_US.utf',\n",
       " 'universal': 'en_US.utf',\n",
       " 'universal.utf8@ucs4': 'en_US.UTF-8',\n",
       " 'unm_us': 'unm_US.UTF-8',\n",
       " 'ur': 'ur_PK.CP1256',\n",
       " 'ur_in': 'ur_IN.UTF-8',\n",
       " 'ur_pk': 'ur_PK.CP1256',\n",
       " 'uz': 'uz_UZ.UTF-8',\n",
       " 'uz_uz': 'uz_UZ.UTF-8',\n",
       " 'uz_uz@cyrillic': 'uz_UZ.UTF-8',\n",
       " 've': 've_ZA.UTF-8',\n",
       " 've_za': 've_ZA.UTF-8',\n",
       " 'vi': 'vi_VN.TCVN',\n",
       " 'vi_vn': 'vi_VN.TCVN',\n",
       " 'vi_vn.tcvn': 'vi_VN.TCVN',\n",
       " 'vi_vn.tcvn5712': 'vi_VN.TCVN',\n",
       " 'vi_vn.viscii': 'vi_VN.VISCII',\n",
       " 'vi_vn.viscii111': 'vi_VN.VISCII',\n",
       " 'wa': 'wa_BE.ISO8859-1',\n",
       " 'wa_be': 'wa_BE.ISO8859-1',\n",
       " 'wae_ch': 'wae_CH.UTF-8',\n",
       " 'wal_et': 'wal_ET.UTF-8',\n",
       " 'wo_sn': 'wo_SN.UTF-8',\n",
       " 'xh': 'xh_ZA.ISO8859-1',\n",
       " 'xh_za': 'xh_ZA.ISO8859-1',\n",
       " 'yi': 'yi_US.CP1255',\n",
       " 'yi_us': 'yi_US.CP1255',\n",
       " 'yo_ng': 'yo_NG.UTF-8',\n",
       " 'yue_hk': 'yue_HK.UTF-8',\n",
       " 'yuw_pg': 'yuw_PG.UTF-8',\n",
       " 'zh': 'zh_CN.eucCN',\n",
       " 'zh_cn': 'zh_CN.gb2312',\n",
       " 'zh_cn.big5': 'zh_TW.big5',\n",
       " 'zh_cn.euc': 'zh_CN.eucCN',\n",
       " 'zh_hk': 'zh_HK.big5hkscs',\n",
       " 'zh_hk.big5hk': 'zh_HK.big5hkscs',\n",
       " 'zh_sg': 'zh_SG.GB2312',\n",
       " 'zh_sg.gbk': 'zh_SG.GBK',\n",
       " 'zh_tw': 'zh_TW.big5',\n",
       " 'zh_tw.euc': 'zh_TW.eucTW',\n",
       " 'zh_tw.euctw': 'zh_TW.eucTW',\n",
       " 'zu': 'zu_ZA.ISO8859-1',\n",
       " 'zu_za': 'zu_ZA.ISO8859-1'}"
      ]
     },
     "execution_count": 9,
     "metadata": {},
     "output_type": "execute_result"
    }
   ],
   "source": [
    "locale.locale_alias"
   ]
  },
  {
   "cell_type": "code",
   "execution_count": 13,
   "id": "06c36a08",
   "metadata": {},
   "outputs": [
    {
     "data": {
      "text/plain": [
       "0        Monday\n",
       "1       Tuesday\n",
       "2        Friday\n",
       "3       Tuesday\n",
       "4        Friday\n",
       "         ...   \n",
       "4318    Tuesday\n",
       "4319    Tuesday\n",
       "4320     Friday\n",
       "4321     Friday\n",
       "4322     Monday\n",
       "Name: date, Length: 4323, dtype: object"
      ]
     },
     "execution_count": 13,
     "metadata": {},
     "output_type": "execute_result"
    }
   ],
   "source": [
    "data6.date.dt.strftime('%A')"
   ]
  },
  {
   "cell_type": "code",
   "execution_count": 14,
   "id": "f53e9aa3",
   "metadata": {},
   "outputs": [
    {
     "data": {
      "text/plain": [
       "'Korean_Korea.949'"
      ]
     },
     "execution_count": 14,
     "metadata": {},
     "output_type": "execute_result"
    }
   ],
   "source": [
    "locale.setlocale(locale.LC_ALL,'')"
   ]
  },
  {
   "cell_type": "code",
   "execution_count": 15,
   "id": "f263a390",
   "metadata": {},
   "outputs": [
    {
     "data": {
      "text/plain": [
       "0       월요일\n",
       "1       화요일\n",
       "2       금요일\n",
       "3       화요일\n",
       "4       금요일\n",
       "       ... \n",
       "4318    화요일\n",
       "4319    화요일\n",
       "4320    금요일\n",
       "4321    금요일\n",
       "4322    월요일\n",
       "Name: date, Length: 4323, dtype: object"
      ]
     },
     "execution_count": 15,
     "metadata": {},
     "output_type": "execute_result"
    }
   ],
   "source": [
    "data6.date.dt.strftime('%A')"
   ]
  },
  {
   "cell_type": "code",
   "execution_count": 16,
   "id": "a546edcd",
   "metadata": {},
   "outputs": [
    {
     "data": {
      "text/plain": [
       "0       월요일\n",
       "1       화요일\n",
       "2       금요일\n",
       "3       화요일\n",
       "4       금요일\n",
       "       ... \n",
       "4318    화요일\n",
       "4319    화요일\n",
       "4320    금요일\n",
       "4321    금요일\n",
       "4322    월요일\n",
       "Name: date, Length: 4323, dtype: object"
      ]
     },
     "execution_count": 16,
     "metadata": {},
     "output_type": "execute_result"
    }
   ],
   "source": [
    "data6.date.dt.day_name(locale='Korean_Korea.949')"
   ]
  },
  {
   "cell_type": "code",
   "execution_count": null,
   "id": "30e21033",
   "metadata": {},
   "outputs": [],
   "source": [
    "# =============================================================================\n",
    "# 1.강변 조망이 가능한지 여부(waterfront)에 따라 평균 주택 가격을 계산하고 조망이\n",
    "# 가능한 경우와 그렇지 않은 경우의 평균 가격 차이의 절대값을 구하시오. 답은\n",
    "# 소수점 이하는 버리고 정수부만 기술하시오. (답안 예시) 1234567\n",
    "# ============================================================================="
   ]
  },
  {
   "cell_type": "code",
   "execution_count": 17,
   "id": "4c172774",
   "metadata": {},
   "outputs": [
    {
     "data": {
      "text/plain": [
       "1167272.0"
      ]
     },
     "execution_count": 17,
     "metadata": {},
     "output_type": "execute_result"
    }
   ],
   "source": [
    "q6_1_1=data6[data6.waterfront == 1]['price'].mean()\n",
    "q6_1_0=data6[data6.waterfront == 0]['price'].mean()\n",
    "\n",
    "np.trunc(abs(q6_1_1-q6_1_0))  # 답: 1167272"
   ]
  },
  {
   "cell_type": "code",
   "execution_count": null,
   "id": "3c23f02d",
   "metadata": {},
   "outputs": [],
   "source": [
    "# =============================================================================\n",
    "# 2.price, bedrooms, bathrooms, sqft_living, sqft_lot, floors, yr_built 등 7개의 변수 간의\n",
    "# 상관분석을 수행하고 price와의 상관계수의 절대값이 가장 큰 변수와 가장 작은\n",
    "# 변수를 차례로 기술하시오. (답안 예시) view, zipcode\n",
    "# \n",
    "# ============================================================================="
   ]
  },
  {
   "cell_type": "code",
   "execution_count": 18,
   "id": "b731237e",
   "metadata": {},
   "outputs": [],
   "source": [
    "q6_2_list=['price', 'bedrooms', 'bathrooms', 'sqft_living', 'sqft_lot', 'floors', 'yr_built']"
   ]
  },
  {
   "cell_type": "code",
   "execution_count": 21,
   "id": "19164934",
   "metadata": {},
   "outputs": [
    {
     "data": {
      "text/plain": [
       "('sqft_living', 'yr_built')"
      ]
     },
     "execution_count": 21,
     "metadata": {},
     "output_type": "execute_result"
    }
   ],
   "source": [
    "q6_2=data6[q6_2_list].corr()['price'].drop('price')\n",
    "\n",
    "q6_2.abs().idxmax(), q6_2.abs().idxmin()  # 답: 'sqft_living', 'yr_built'"
   ]
  },
  {
   "cell_type": "code",
   "execution_count": null,
   "id": "0c4bb7e4",
   "metadata": {},
   "outputs": [],
   "source": [
    "# =============================================================================\n",
    "# 3. id, date, 그리고 zipcode를 제외한 모든 변수를 독립변수로, price를 종속변수로 하여\n",
    "# 회귀분석을 수행하시오. 통계적 유의성을 갖지 못하는 독립변수를 제거하면 회귀\n",
    "# 모형에 남는 변수는 모두\n",
    "# 몇 개인가? 이 때 음의 회귀계수를 가지는 변수는 몇 개인가? (답안 예시) 5, 3\n",
    "# =============================================================================\n",
    "\n",
    "# =============================================================================\n",
    "# (참고)\n",
    "# import pandas as pd\n",
    "# import numpy as np\n",
    "# from sklearn.linear_model import LinearRegression\n",
    "# from statsmodels.formula.api import ols\n",
    "# ============================================================================="
   ]
  },
  {
   "cell_type": "code",
   "execution_count": null,
   "id": "c61a2f9e",
   "metadata": {},
   "outputs": [],
   "source": [
    "# lm1=ols('y~x1+x2+C(x3)-1', 데이터셋)\n",
    "# C(x3): 범주형 변수로 인식-> 인식 후 더미로 변수 변환\n",
    "# -1: 회귀식에 상수항 미포함\n",
    "# lm2=lm1.fit()\n",
    "#-------------------------------------------------------\n",
    "\n",
    "# lm1=ols('y~x1+x2+C(x3)-1', 데이터셋).fit()"
   ]
  },
  {
   "cell_type": "code",
   "execution_count": 22,
   "id": "688d0b98",
   "metadata": {},
   "outputs": [
    {
     "data": {
      "text/plain": [
       "Index(['bedrooms', 'bathrooms', 'sqft_living', 'sqft_lot', 'floors',\n",
       "       'waterfront', 'view', 'condition', 'grade', 'sqft_above',\n",
       "       'sqft_basement', 'yr_built', 'yr_renovated', 'sqft_living15',\n",
       "       'sqft_lot15'],\n",
       "      dtype='object')"
      ]
     },
     "execution_count": 22,
     "metadata": {},
     "output_type": "execute_result"
    }
   ],
   "source": [
    "q6_3_list=data6.columns.drop(['id', 'date','zipcode','price'])  # 독립변수 목록\n",
    "q6_3_list"
   ]
  },
  {
   "cell_type": "code",
   "execution_count": 23,
   "id": "b2347bc3",
   "metadata": {},
   "outputs": [
    {
     "data": {
      "text/plain": [
       "'bedrooms+bathrooms+sqft_living+sqft_lot+floors+waterfront+view+condition+grade+sqft_above+sqft_basement+yr_built+yr_renovated+sqft_living15+sqft_lot15'"
      ]
     },
     "execution_count": 23,
     "metadata": {},
     "output_type": "execute_result"
    }
   ],
   "source": [
    "'+'.join(q6_3_list)"
   ]
  },
  {
   "cell_type": "code",
   "execution_count": 26,
   "id": "c2257801",
   "metadata": {},
   "outputs": [
    {
     "data": {
      "text/plain": [
       "'price~bedrooms+bathrooms+sqft_living+sqft_lot+floors+waterfront+view+condition+grade+sqft_above+sqft_basement+yr_built+yr_renovated+sqft_living15+sqft_lot15'"
      ]
     },
     "execution_count": 26,
     "metadata": {},
     "output_type": "execute_result"
    }
   ],
   "source": [
    "form1='price~' + '+'.join(q6_3_list)\n",
    "form1"
   ]
  },
  {
   "cell_type": "code",
   "execution_count": 27,
   "id": "b341028b",
   "metadata": {},
   "outputs": [],
   "source": [
    "ols_6_3 = ols(form1, data6).fit()"
   ]
  },
  {
   "cell_type": "code",
   "execution_count": 28,
   "id": "a916eb4e",
   "metadata": {},
   "outputs": [
    {
     "data": {
      "text/html": [
       "<table class=\"simpletable\">\n",
       "<caption>OLS Regression Results</caption>\n",
       "<tr>\n",
       "  <th>Dep. Variable:</th>        <td>price</td>     <th>  R-squared:         </th> <td>   0.681</td> \n",
       "</tr>\n",
       "<tr>\n",
       "  <th>Model:</th>                 <td>OLS</td>      <th>  Adj. R-squared:    </th> <td>   0.680</td> \n",
       "</tr>\n",
       "<tr>\n",
       "  <th>Method:</th>           <td>Least Squares</td> <th>  F-statistic:       </th> <td>   656.0</td> \n",
       "</tr>\n",
       "<tr>\n",
       "  <th>Date:</th>             <td>금, 16 2 2024</td>  <th>  Prob (F-statistic):</th>  <td>  0.00</td>  \n",
       "</tr>\n",
       "<tr>\n",
       "  <th>Time:</th>               <td>13:48:59</td>    <th>  Log-Likelihood:    </th> <td> -58960.</td> \n",
       "</tr>\n",
       "<tr>\n",
       "  <th>No. Observations:</th>    <td>  4323</td>     <th>  AIC:               </th> <td>1.180e+05</td>\n",
       "</tr>\n",
       "<tr>\n",
       "  <th>Df Residuals:</th>        <td>  4308</td>     <th>  BIC:               </th> <td>1.180e+05</td>\n",
       "</tr>\n",
       "<tr>\n",
       "  <th>Df Model:</th>            <td>    14</td>     <th>                     </th>     <td> </td>    \n",
       "</tr>\n",
       "<tr>\n",
       "  <th>Covariance Type:</th>    <td>nonrobust</td>   <th>                     </th>     <td> </td>    \n",
       "</tr>\n",
       "</table>\n",
       "<table class=\"simpletable\">\n",
       "<tr>\n",
       "        <td></td>           <th>coef</th>     <th>std err</th>      <th>t</th>      <th>P>|t|</th>  <th>[0.025</th>    <th>0.975]</th>  \n",
       "</tr>\n",
       "<tr>\n",
       "  <th>Intercept</th>     <td> 6.302e+06</td> <td> 2.95e+05</td> <td>   21.401</td> <td> 0.000</td> <td> 5.73e+06</td> <td> 6.88e+06</td>\n",
       "</tr>\n",
       "<tr>\n",
       "  <th>bedrooms</th>      <td>  -2.5e+04</td> <td> 3680.510</td> <td>   -6.791</td> <td> 0.000</td> <td>-3.22e+04</td> <td>-1.78e+04</td>\n",
       "</tr>\n",
       "<tr>\n",
       "  <th>bathrooms</th>     <td> 5.179e+04</td> <td> 7163.408</td> <td>    7.230</td> <td> 0.000</td> <td> 3.77e+04</td> <td> 6.58e+04</td>\n",
       "</tr>\n",
       "<tr>\n",
       "  <th>sqft_living</th>   <td>   92.3081</td> <td>    5.074</td> <td>   18.192</td> <td> 0.000</td> <td>   82.360</td> <td>  102.256</td>\n",
       "</tr>\n",
       "<tr>\n",
       "  <th>sqft_lot</th>      <td>    0.0054</td> <td>    0.093</td> <td>    0.059</td> <td> 0.953</td> <td>   -0.176</td> <td>    0.187</td>\n",
       "</tr>\n",
       "<tr>\n",
       "  <th>floors</th>        <td> 3.748e+04</td> <td> 8141.392</td> <td>    4.604</td> <td> 0.000</td> <td> 2.15e+04</td> <td> 5.34e+04</td>\n",
       "</tr>\n",
       "<tr>\n",
       "  <th>waterfront</th>    <td> 6.277e+05</td> <td> 3.91e+04</td> <td>   16.064</td> <td> 0.000</td> <td> 5.51e+05</td> <td> 7.04e+05</td>\n",
       "</tr>\n",
       "<tr>\n",
       "  <th>view</th>          <td>  4.04e+04</td> <td> 4797.344</td> <td>    8.421</td> <td> 0.000</td> <td>  3.1e+04</td> <td> 4.98e+04</td>\n",
       "</tr>\n",
       "<tr>\n",
       "  <th>condition</th>     <td> 1.571e+04</td> <td> 5317.387</td> <td>    2.954</td> <td> 0.003</td> <td> 5280.918</td> <td> 2.61e+04</td>\n",
       "</tr>\n",
       "<tr>\n",
       "  <th>grade</th>         <td> 1.306e+05</td> <td> 4700.604</td> <td>   27.789</td> <td> 0.000</td> <td> 1.21e+05</td> <td>  1.4e+05</td>\n",
       "</tr>\n",
       "<tr>\n",
       "  <th>sqft_above</th>    <td>   33.7358</td> <td>    4.981</td> <td>    6.773</td> <td> 0.000</td> <td>   23.971</td> <td>   43.501</td>\n",
       "</tr>\n",
       "<tr>\n",
       "  <th>sqft_basement</th> <td>   58.5722</td> <td>    5.840</td> <td>   10.030</td> <td> 0.000</td> <td>   47.123</td> <td>   70.021</td>\n",
       "</tr>\n",
       "<tr>\n",
       "  <th>yr_built</th>      <td>-3666.8957</td> <td>  150.805</td> <td>  -24.316</td> <td> 0.000</td> <td>-3962.551</td> <td>-3371.241</td>\n",
       "</tr>\n",
       "<tr>\n",
       "  <th>yr_renovated</th>  <td>   17.7032</td> <td>    8.265</td> <td>    2.142</td> <td> 0.032</td> <td>    1.499</td> <td>   33.908</td>\n",
       "</tr>\n",
       "<tr>\n",
       "  <th>sqft_living15</th> <td>   23.0114</td> <td>    7.561</td> <td>    3.044</td> <td> 0.002</td> <td>    8.188</td> <td>   37.834</td>\n",
       "</tr>\n",
       "<tr>\n",
       "  <th>sqft_lot15</th>    <td>   -0.2323</td> <td>    0.142</td> <td>   -1.637</td> <td> 0.102</td> <td>   -0.511</td> <td>    0.046</td>\n",
       "</tr>\n",
       "</table>\n",
       "<table class=\"simpletable\">\n",
       "<tr>\n",
       "  <th>Omnibus:</th>       <td>2170.721</td> <th>  Durbin-Watson:     </th> <td>   2.011</td> \n",
       "</tr>\n",
       "<tr>\n",
       "  <th>Prob(Omnibus):</th>  <td> 0.000</td>  <th>  Jarque-Bera (JB):  </th> <td>38362.875</td>\n",
       "</tr>\n",
       "<tr>\n",
       "  <th>Skew:</th>           <td> 1.971</td>  <th>  Prob(JB):          </th> <td>    0.00</td> \n",
       "</tr>\n",
       "<tr>\n",
       "  <th>Kurtosis:</th>       <td>17.051</td>  <th>  Cond. No.          </th> <td>1.67e+17</td> \n",
       "</tr>\n",
       "</table><br/><br/>Notes:<br/>[1] Standard Errors assume that the covariance matrix of the errors is correctly specified.<br/>[2] The smallest eigenvalue is 5.83e-22. This might indicate that there are<br/>strong multicollinearity problems or that the design matrix is singular."
      ],
      "text/latex": [
       "\\begin{center}\n",
       "\\begin{tabular}{lclc}\n",
       "\\toprule\n",
       "\\textbf{Dep. Variable:}    &     price     & \\textbf{  R-squared:         } &     0.681   \\\\\n",
       "\\textbf{Model:}            &      OLS      & \\textbf{  Adj. R-squared:    } &     0.680   \\\\\n",
       "\\textbf{Method:}           & Least Squares & \\textbf{  F-statistic:       } &     656.0   \\\\\n",
       "\\textbf{Date:}             &  금, 16 2 2024 & \\textbf{  Prob (F-statistic):} &     0.00    \\\\\n",
       "\\textbf{Time:}             &    13:48:59   & \\textbf{  Log-Likelihood:    } &   -58960.   \\\\\n",
       "\\textbf{No. Observations:} &       4323    & \\textbf{  AIC:               } & 1.180e+05   \\\\\n",
       "\\textbf{Df Residuals:}     &       4308    & \\textbf{  BIC:               } & 1.180e+05   \\\\\n",
       "\\textbf{Df Model:}         &         14    & \\textbf{                     } &             \\\\\n",
       "\\textbf{Covariance Type:}  &   nonrobust   & \\textbf{                     } &             \\\\\n",
       "\\bottomrule\n",
       "\\end{tabular}\n",
       "\\begin{tabular}{lcccccc}\n",
       "                        & \\textbf{coef} & \\textbf{std err} & \\textbf{t} & \\textbf{P$> |$t$|$} & \\textbf{[0.025} & \\textbf{0.975]}  \\\\\n",
       "\\midrule\n",
       "\\textbf{Intercept}      &    6.302e+06  &     2.95e+05     &    21.401  &         0.000        &     5.73e+06    &     6.88e+06     \\\\\n",
       "\\textbf{bedrooms}       &     -2.5e+04  &     3680.510     &    -6.791  &         0.000        &    -3.22e+04    &    -1.78e+04     \\\\\n",
       "\\textbf{bathrooms}      &    5.179e+04  &     7163.408     &     7.230  &         0.000        &     3.77e+04    &     6.58e+04     \\\\\n",
       "\\textbf{sqft\\_living}   &      92.3081  &        5.074     &    18.192  &         0.000        &       82.360    &      102.256     \\\\\n",
       "\\textbf{sqft\\_lot}      &       0.0054  &        0.093     &     0.059  &         0.953        &       -0.176    &        0.187     \\\\\n",
       "\\textbf{floors}         &    3.748e+04  &     8141.392     &     4.604  &         0.000        &     2.15e+04    &     5.34e+04     \\\\\n",
       "\\textbf{waterfront}     &    6.277e+05  &     3.91e+04     &    16.064  &         0.000        &     5.51e+05    &     7.04e+05     \\\\\n",
       "\\textbf{view}           &     4.04e+04  &     4797.344     &     8.421  &         0.000        &      3.1e+04    &     4.98e+04     \\\\\n",
       "\\textbf{condition}      &    1.571e+04  &     5317.387     &     2.954  &         0.003        &     5280.918    &     2.61e+04     \\\\\n",
       "\\textbf{grade}          &    1.306e+05  &     4700.604     &    27.789  &         0.000        &     1.21e+05    &      1.4e+05     \\\\\n",
       "\\textbf{sqft\\_above}    &      33.7358  &        4.981     &     6.773  &         0.000        &       23.971    &       43.501     \\\\\n",
       "\\textbf{sqft\\_basement} &      58.5722  &        5.840     &    10.030  &         0.000        &       47.123    &       70.021     \\\\\n",
       "\\textbf{yr\\_built}      &   -3666.8957  &      150.805     &   -24.316  &         0.000        &    -3962.551    &    -3371.241     \\\\\n",
       "\\textbf{yr\\_renovated}  &      17.7032  &        8.265     &     2.142  &         0.032        &        1.499    &       33.908     \\\\\n",
       "\\textbf{sqft\\_living15} &      23.0114  &        7.561     &     3.044  &         0.002        &        8.188    &       37.834     \\\\\n",
       "\\textbf{sqft\\_lot15}    &      -0.2323  &        0.142     &    -1.637  &         0.102        &       -0.511    &        0.046     \\\\\n",
       "\\bottomrule\n",
       "\\end{tabular}\n",
       "\\begin{tabular}{lclc}\n",
       "\\textbf{Omnibus:}       & 2170.721 & \\textbf{  Durbin-Watson:     } &     2.011  \\\\\n",
       "\\textbf{Prob(Omnibus):} &   0.000  & \\textbf{  Jarque-Bera (JB):  } & 38362.875  \\\\\n",
       "\\textbf{Skew:}          &   1.971  & \\textbf{  Prob(JB):          } &      0.00  \\\\\n",
       "\\textbf{Kurtosis:}      &  17.051  & \\textbf{  Cond. No.          } &  1.67e+17  \\\\\n",
       "\\bottomrule\n",
       "\\end{tabular}\n",
       "%\\caption{OLS Regression Results}\n",
       "\\end{center}\n",
       "\n",
       "Notes: \\newline\n",
       " [1] Standard Errors assume that the covariance matrix of the errors is correctly specified. \\newline\n",
       " [2] The smallest eigenvalue is 5.83e-22. This might indicate that there are \\newline\n",
       " strong multicollinearity problems or that the design matrix is singular."
      ],
      "text/plain": [
       "<class 'statsmodels.iolib.summary.Summary'>\n",
       "\"\"\"\n",
       "                            OLS Regression Results                            \n",
       "==============================================================================\n",
       "Dep. Variable:                  price   R-squared:                       0.681\n",
       "Model:                            OLS   Adj. R-squared:                  0.680\n",
       "Method:                 Least Squares   F-statistic:                     656.0\n",
       "Date:                    금, 16 2 2024   Prob (F-statistic):               0.00\n",
       "Time:                        13:48:59   Log-Likelihood:                -58960.\n",
       "No. Observations:                4323   AIC:                         1.180e+05\n",
       "Df Residuals:                    4308   BIC:                         1.180e+05\n",
       "Df Model:                          14                                         \n",
       "Covariance Type:            nonrobust                                         \n",
       "=================================================================================\n",
       "                    coef    std err          t      P>|t|      [0.025      0.975]\n",
       "---------------------------------------------------------------------------------\n",
       "Intercept      6.302e+06   2.95e+05     21.401      0.000    5.73e+06    6.88e+06\n",
       "bedrooms        -2.5e+04   3680.510     -6.791      0.000   -3.22e+04   -1.78e+04\n",
       "bathrooms      5.179e+04   7163.408      7.230      0.000    3.77e+04    6.58e+04\n",
       "sqft_living      92.3081      5.074     18.192      0.000      82.360     102.256\n",
       "sqft_lot          0.0054      0.093      0.059      0.953      -0.176       0.187\n",
       "floors         3.748e+04   8141.392      4.604      0.000    2.15e+04    5.34e+04\n",
       "waterfront     6.277e+05   3.91e+04     16.064      0.000    5.51e+05    7.04e+05\n",
       "view            4.04e+04   4797.344      8.421      0.000     3.1e+04    4.98e+04\n",
       "condition      1.571e+04   5317.387      2.954      0.003    5280.918    2.61e+04\n",
       "grade          1.306e+05   4700.604     27.789      0.000    1.21e+05     1.4e+05\n",
       "sqft_above       33.7358      4.981      6.773      0.000      23.971      43.501\n",
       "sqft_basement    58.5722      5.840     10.030      0.000      47.123      70.021\n",
       "yr_built      -3666.8957    150.805    -24.316      0.000   -3962.551   -3371.241\n",
       "yr_renovated     17.7032      8.265      2.142      0.032       1.499      33.908\n",
       "sqft_living15    23.0114      7.561      3.044      0.002       8.188      37.834\n",
       "sqft_lot15       -0.2323      0.142     -1.637      0.102      -0.511       0.046\n",
       "==============================================================================\n",
       "Omnibus:                     2170.721   Durbin-Watson:                   2.011\n",
       "Prob(Omnibus):                  0.000   Jarque-Bera (JB):            38362.875\n",
       "Skew:                           1.971   Prob(JB):                         0.00\n",
       "Kurtosis:                      17.051   Cond. No.                     1.67e+17\n",
       "==============================================================================\n",
       "\n",
       "Notes:\n",
       "[1] Standard Errors assume that the covariance matrix of the errors is correctly specified.\n",
       "[2] The smallest eigenvalue is 5.83e-22. This might indicate that there are\n",
       "strong multicollinearity problems or that the design matrix is singular.\n",
       "\"\"\""
      ]
     },
     "execution_count": 28,
     "metadata": {},
     "output_type": "execute_result"
    }
   ],
   "source": [
    "ols_6_3.summary()"
   ]
  },
  {
   "cell_type": "code",
   "execution_count": 29,
   "id": "41413c7a",
   "metadata": {},
   "outputs": [
    {
     "data": {
      "text/plain": [
       "Intercept        6.302495e+06\n",
       "bedrooms        -2.499553e+04\n",
       "bathrooms        5.179234e+04\n",
       "sqft_living      9.230805e+01\n",
       "sqft_lot         5.444844e-03\n",
       "floors           3.748199e+04\n",
       "waterfront       6.276528e+05\n",
       "view             4.039778e+04\n",
       "condition        1.570573e+04\n",
       "grade            1.306274e+05\n",
       "sqft_above       3.373578e+01\n",
       "sqft_basement    5.857224e+01\n",
       "yr_built        -3.666896e+03\n",
       "yr_renovated     1.770319e+01\n",
       "sqft_living15    2.301144e+01\n",
       "sqft_lot15      -2.322904e-01\n",
       "dtype: float64"
      ]
     },
     "execution_count": 29,
     "metadata": {},
     "output_type": "execute_result"
    }
   ],
   "source": [
    "ols_6_3.params"
   ]
  },
  {
   "cell_type": "code",
   "execution_count": 30,
   "id": "0c6e107f",
   "metadata": {},
   "outputs": [
    {
     "data": {
      "text/plain": [
       "Intercept         1.204633e-96\n",
       "bedrooms          1.262643e-11\n",
       "bathrooms         5.681393e-13\n",
       "sqft_living       2.616896e-71\n",
       "sqft_lot          9.532159e-01\n",
       "floors            4.266372e-06\n",
       "waterfront        1.931929e-56\n",
       "view              5.028272e-17\n",
       "condition         3.157318e-03\n",
       "grade            1.760208e-156\n",
       "sqft_above        1.431357e-11\n",
       "sqft_basement     2.030036e-23\n",
       "yr_built         1.717539e-122\n",
       "yr_renovated      3.226128e-02\n",
       "sqft_living15     2.352216e-03\n",
       "sqft_lot15        1.017748e-01\n",
       "dtype: float64"
      ]
     },
     "execution_count": 30,
     "metadata": {},
     "output_type": "execute_result"
    }
   ],
   "source": [
    "ols_6_3.pvalues"
   ]
  },
  {
   "cell_type": "code",
   "execution_count": 31,
   "id": "b7a531bb",
   "metadata": {},
   "outputs": [
    {
     "data": {
      "text/plain": [
       "0       303167.404363\n",
       "1       494555.779137\n",
       "2       526394.280931\n",
       "3       381742.870130\n",
       "4       326405.856590\n",
       "            ...      \n",
       "4318    218820.959470\n",
       "4319    700129.403303\n",
       "4320    403050.034203\n",
       "4321    530431.529542\n",
       "4322    462692.590490\n",
       "Length: 4323, dtype: float64"
      ]
     },
     "execution_count": 31,
     "metadata": {},
     "output_type": "execute_result"
    }
   ],
   "source": [
    "ols_6_3.fittedvalues  # 추정값"
   ]
  },
  {
   "cell_type": "code",
   "execution_count": 32,
   "id": "1d17badd",
   "metadata": {},
   "outputs": [
    {
     "data": {
      "text/plain": [
       "0        44332.595637\n",
       "1        80444.220863\n",
       "2       -36894.280931\n",
       "3      -135742.870130\n",
       "4       268594.143410\n",
       "            ...      \n",
       "4318    106179.040530\n",
       "4319   -282729.403303\n",
       "4320     11949.965797\n",
       "4321     69568.470458\n",
       "4322     -9692.590490\n",
       "Length: 4323, dtype: float64"
      ]
     },
     "execution_count": 32,
     "metadata": {},
     "output_type": "execute_result"
    }
   ],
   "source": [
    "ols_6_3.resid   # 잔차"
   ]
  },
  {
   "cell_type": "code",
   "execution_count": 33,
   "id": "b1ef452f",
   "metadata": {},
   "outputs": [],
   "source": [
    "import matplotlib.pyplot as plt"
   ]
  },
  {
   "cell_type": "code",
   "execution_count": 34,
   "id": "761f0e2a",
   "metadata": {},
   "outputs": [
    {
     "name": "stdout",
     "output_type": "stream",
     "text": [
      "Help on function scatter in module matplotlib.pyplot:\n",
      "\n",
      "scatter(x, y, s=None, c=None, marker=None, cmap=None, norm=None, vmin=None, vmax=None, alpha=None, linewidths=None, *, edgecolors=None, plotnonfinite=False, data=None, **kwargs)\n",
      "    A scatter plot of *y* vs. *x* with varying marker size and/or color.\n",
      "    \n",
      "    Parameters\n",
      "    ----------\n",
      "    x, y : float or array-like, shape (n, )\n",
      "        The data positions.\n",
      "    \n",
      "    s : float or array-like, shape (n, ), optional\n",
      "        The marker size in points**2 (typographic points are 1/72 in.).\n",
      "        Default is ``rcParams['lines.markersize'] ** 2``.\n",
      "    \n",
      "    c : array-like or list of colors or color, optional\n",
      "        The marker colors. Possible values:\n",
      "    \n",
      "        - A scalar or sequence of n numbers to be mapped to colors using\n",
      "          *cmap* and *norm*.\n",
      "        - A 2D array in which the rows are RGB or RGBA.\n",
      "        - A sequence of colors of length n.\n",
      "        - A single color format string.\n",
      "    \n",
      "        Note that *c* should not be a single numeric RGB or RGBA sequence\n",
      "        because that is indistinguishable from an array of values to be\n",
      "        colormapped. If you want to specify the same RGB or RGBA value for\n",
      "        all points, use a 2D array with a single row.  Otherwise,\n",
      "        value-matching will have precedence in case of a size matching with\n",
      "        *x* and *y*.\n",
      "    \n",
      "        If you wish to specify a single color for all points\n",
      "        prefer the *color* keyword argument.\n",
      "    \n",
      "        Defaults to `None`. In that case the marker color is determined\n",
      "        by the value of *color*, *facecolor* or *facecolors*. In case\n",
      "        those are not specified or `None`, the marker color is determined\n",
      "        by the next color of the ``Axes``' current \"shape and fill\" color\n",
      "        cycle. This cycle defaults to :rc:`axes.prop_cycle`.\n",
      "    \n",
      "    marker : `~.markers.MarkerStyle`, default: :rc:`scatter.marker`\n",
      "        The marker style. *marker* can be either an instance of the class\n",
      "        or the text shorthand for a particular marker.\n",
      "        See :mod:`matplotlib.markers` for more information about marker\n",
      "        styles.\n",
      "    \n",
      "    cmap : str or `~matplotlib.colors.Colormap`, default: :rc:`image.cmap`\n",
      "        The Colormap instance or registered colormap name used to map scalar data\n",
      "        to colors.\n",
      "    \n",
      "        This parameter is ignored if *c* is RGB(A).\n",
      "    \n",
      "    norm : str or `~matplotlib.colors.Normalize`, optional\n",
      "        The normalization method used to scale scalar data to the [0, 1] range\n",
      "        before mapping to colors using *cmap*. By default, a linear scaling is\n",
      "        used, mapping the lowest value to 0 and the highest to 1.\n",
      "    \n",
      "        If given, this can be one of the following:\n",
      "    \n",
      "        - An instance of `.Normalize` or one of its subclasses\n",
      "          (see :doc:`/tutorials/colors/colormapnorms`).\n",
      "        - A scale name, i.e. one of \"linear\", \"log\", \"symlog\", \"logit\", etc.  For a\n",
      "          list of available scales, call `matplotlib.scale.get_scale_names()`.\n",
      "          In that case, a suitable `.Normalize` subclass is dynamically generated\n",
      "          and instantiated.\n",
      "    \n",
      "        This parameter is ignored if *c* is RGB(A).\n",
      "    \n",
      "    vmin, vmax : float, optional\n",
      "        When using scalar data and no explicit *norm*, *vmin* and *vmax* define\n",
      "        the data range that the colormap covers. By default, the colormap covers\n",
      "        the complete value range of the supplied data. It is an error to use\n",
      "        *vmin*/*vmax* when a *norm* instance is given (but using a `str` *norm*\n",
      "        name together with *vmin*/*vmax* is acceptable).\n",
      "    \n",
      "        This parameter is ignored if *c* is RGB(A).\n",
      "    \n",
      "    alpha : float, default: None\n",
      "        The alpha blending value, between 0 (transparent) and 1 (opaque).\n",
      "    \n",
      "    linewidths : float or array-like, default: :rc:`lines.linewidth`\n",
      "        The linewidth of the marker edges. Note: The default *edgecolors*\n",
      "        is 'face'. You may want to change this as well.\n",
      "    \n",
      "    edgecolors : {'face', 'none', *None*} or color or sequence of color, default: :rc:`scatter.edgecolors`\n",
      "        The edge color of the marker. Possible values:\n",
      "    \n",
      "        - 'face': The edge color will always be the same as the face color.\n",
      "        - 'none': No patch boundary will be drawn.\n",
      "        - A color or sequence of colors.\n",
      "    \n",
      "        For non-filled markers, *edgecolors* is ignored. Instead, the color\n",
      "        is determined like with 'face', i.e. from *c*, *colors*, or\n",
      "        *facecolors*.\n",
      "    \n",
      "    plotnonfinite : bool, default: False\n",
      "        Whether to plot points with nonfinite *c* (i.e. ``inf``, ``-inf``\n",
      "        or ``nan``). If ``True`` the points are drawn with the *bad*\n",
      "        colormap color (see `.Colormap.set_bad`).\n",
      "    \n",
      "    Returns\n",
      "    -------\n",
      "    `~matplotlib.collections.PathCollection`\n",
      "    \n",
      "    Other Parameters\n",
      "    ----------------\n",
      "    data : indexable object, optional\n",
      "        If given, the following parameters also accept a string ``s``, which is\n",
      "        interpreted as ``data[s]`` (unless this raises an exception):\n",
      "    \n",
      "        *x*, *y*, *s*, *linewidths*, *edgecolors*, *c*, *facecolor*, *facecolors*, *color*\n",
      "    **kwargs : `~matplotlib.collections.Collection` properties\n",
      "    \n",
      "    See Also\n",
      "    --------\n",
      "    plot : To plot scatter plots when markers are identical in size and\n",
      "        color.\n",
      "    \n",
      "    Notes\n",
      "    -----\n",
      "    * The `.plot` function will be faster for scatterplots where markers\n",
      "      don't vary in size or color.\n",
      "    \n",
      "    * Any or all of *x*, *y*, *s*, and *c* may be masked arrays, in which\n",
      "      case all masks will be combined and only unmasked points will be\n",
      "      plotted.\n",
      "    \n",
      "    * Fundamentally, scatter works with 1D arrays; *x*, *y*, *s*, and *c*\n",
      "      may be input as N-D arrays, but within scatter they will be\n",
      "      flattened. The exception is *c*, which will be flattened only if its\n",
      "      size matches the size of *x* and *y*.\n",
      "\n"
     ]
    }
   ],
   "source": [
    "help(plt.scatter)"
   ]
  },
  {
   "cell_type": "code",
   "execution_count": 36,
   "id": "f88db819",
   "metadata": {},
   "outputs": [
    {
     "data": {
      "image/png": "[encoded data removed]",
      "text/plain": [
       "<Figure size 640x480 with 1 Axes>"
      ]
     },
     "metadata": {},
     "output_type": "display_data"
    }
   ],
   "source": [
    "plt.scatter(x=data6.sqft_living, y=data6.price, c=data6.waterfront);"
   ]
  },
  {
   "cell_type": "code",
   "execution_count": 37,
   "id": "77e12767",
   "metadata": {},
   "outputs": [
    {
     "data": {
      "image/png": "[encoded data removed]",
      "text/plain": [
       "<Figure size 640x480 with 1 Axes>"
      ]
     },
     "metadata": {},
     "output_type": "display_data"
    }
   ],
   "source": [
    "plt.scatter(x=ols_6_3.fittedvalues, y=ols_6_3.resid, c=data6.waterfront);"
   ]
  },
  {
   "cell_type": "code",
   "execution_count": 39,
   "id": "2742348a",
   "metadata": {},
   "outputs": [
    {
     "data": {
      "text/plain": [
       "(4323, 4297)"
      ]
     },
     "execution_count": 39,
     "metadata": {},
     "output_type": "execute_result"
    }
   ],
   "source": [
    "# 이상치 체크\n",
    "\n",
    "q6_3_new=data6[ols_6_3.outlier_test()['bonf(p)'] >= 0.05]\n",
    "\n",
    "len(data6), len(q6_3_new)"
   ]
  },
  {
   "cell_type": "code",
   "execution_count": 40,
   "id": "6f4e15cd",
   "metadata": {
    "scrolled": true
   },
   "outputs": [
    {
     "data": {
      "text/plain": [
       "Intercept         1.204633e-96\n",
       "bedrooms          1.262643e-11\n",
       "bathrooms         5.681393e-13\n",
       "sqft_living       2.616896e-71\n",
       "floors            4.266372e-06\n",
       "waterfront        1.931929e-56\n",
       "view              5.028272e-17\n",
       "condition         3.157318e-03\n",
       "grade            1.760208e-156\n",
       "sqft_above        1.431357e-11\n",
       "sqft_basement     2.030036e-23\n",
       "yr_built         1.717539e-122\n",
       "yr_renovated      3.226128e-02\n",
       "sqft_living15     2.352216e-03\n",
       "dtype: float64"
      ]
     },
     "execution_count": 40,
     "metadata": {},
     "output_type": "execute_result"
    }
   ],
   "source": [
    "sel_var=ols_6_3.pvalues[ols_6_3.pvalues < 0.05]\n",
    "sel_var  # 답1 : 13"
   ]
  },
  {
   "cell_type": "code",
   "execution_count": 42,
   "id": "9ecddbf5",
   "metadata": {},
   "outputs": [
    {
     "data": {
      "text/plain": [
       "Index(['bedrooms', 'bathrooms', 'sqft_living', 'floors', 'waterfront', 'view',\n",
       "       'condition', 'grade', 'sqft_above', 'sqft_basement', 'yr_built',\n",
       "       'yr_renovated', 'sqft_living15'],\n",
       "      dtype='object')"
      ]
     },
     "execution_count": 42,
     "metadata": {},
     "output_type": "execute_result"
    }
   ],
   "source": [
    "sel_var=sel_var.index.drop('Intercept')\n",
    "sel_var"
   ]
  },
  {
   "cell_type": "code",
   "execution_count": 45,
   "id": "793f6f9a",
   "metadata": {},
   "outputs": [
    {
     "data": {
      "text/plain": [
       "2"
      ]
     },
     "execution_count": 45,
     "metadata": {},
     "output_type": "execute_result"
    }
   ],
   "source": [
    "(ols_6_3.params[sel_var] < 0).sum()  # 답2(음수의 회귀계수): 2"
   ]
  },
  {
   "cell_type": "markdown",
   "id": "feb4e8bb",
   "metadata": {},
   "source": [
    "### 표준화 및 다중공선성(VIF)"
   ]
  },
  {
   "cell_type": "code",
   "execution_count": 46,
   "id": "4211242a",
   "metadata": {},
   "outputs": [],
   "source": [
    "from sklearn.preprocessing import MinMaxScaler, OneHotEncoder"
   ]
  },
  {
   "cell_type": "code",
   "execution_count": 47,
   "id": "3a853355",
   "metadata": {},
   "outputs": [],
   "source": [
    "minmax=MinMaxScaler().fit(data6[sel_var])"
   ]
  },
  {
   "cell_type": "code",
   "execution_count": 48,
   "id": "af191360",
   "metadata": {},
   "outputs": [
    {
     "data": {
      "text/plain": [
       "array([3.300e+01, 6.500e+00, 7.850e+03, 3.500e+00, 1.000e+00, 4.000e+00,\n",
       "       5.000e+00, 1.300e+01, 7.850e+03, 2.620e+03, 2.015e+03, 2.015e+03,\n",
       "       6.210e+03])"
      ]
     },
     "execution_count": 48,
     "metadata": {},
     "output_type": "execute_result"
    }
   ],
   "source": [
    "minmax.data_max_"
   ]
  },
  {
   "cell_type": "code",
   "execution_count": 49,
   "id": "d61a7fd2",
   "metadata": {},
   "outputs": [
    {
     "data": {
      "text/plain": [
       "array([0.00e+00, 0.00e+00, 3.84e+02, 1.00e+00, 0.00e+00, 0.00e+00,\n",
       "       1.00e+00, 3.00e+00, 3.84e+02, 0.00e+00, 1.90e+03, 0.00e+00,\n",
       "       6.20e+02])"
      ]
     },
     "execution_count": 49,
     "metadata": {},
     "output_type": "execute_result"
    }
   ],
   "source": [
    "minmax.data_min_"
   ]
  },
  {
   "cell_type": "code",
   "execution_count": 54,
   "id": "e68790bb",
   "metadata": {},
   "outputs": [],
   "source": [
    "var_list2='st_' + sel_var"
   ]
  },
  {
   "cell_type": "code",
   "execution_count": 53,
   "id": "e713d6df",
   "metadata": {},
   "outputs": [],
   "source": [
    "data6_new2=data6.copy()"
   ]
  },
  {
   "cell_type": "code",
   "execution_count": 55,
   "id": "29f6292f",
   "metadata": {},
   "outputs": [],
   "source": [
    "data6_new2[var_list2]=minmax.transform(data6[sel_var])"
   ]
  },
  {
   "cell_type": "code",
   "execution_count": 56,
   "id": "833dbbd0",
   "metadata": {},
   "outputs": [
    {
     "data": {
      "text/html": [
       "<div>\n",
       "<style scoped>\n",
       "    .dataframe tbody tr th:only-of-type {\n",
       "        vertical-align: middle;\n",
       "    }\n",
       "\n",
       "    .dataframe tbody tr th {\n",
       "        vertical-align: top;\n",
       "    }\n",
       "\n",
       "    .dataframe thead th {\n",
       "        text-align: right;\n",
       "    }\n",
       "</style>\n",
       "<table border=\"1\" class=\"dataframe\">\n",
       "  <thead>\n",
       "    <tr style=\"text-align: right;\">\n",
       "      <th></th>\n",
       "      <th>id</th>\n",
       "      <th>date</th>\n",
       "      <th>price</th>\n",
       "      <th>bedrooms</th>\n",
       "      <th>bathrooms</th>\n",
       "      <th>sqft_living</th>\n",
       "      <th>sqft_lot</th>\n",
       "      <th>floors</th>\n",
       "      <th>waterfront</th>\n",
       "      <th>view</th>\n",
       "      <th>...</th>\n",
       "      <th>st_floors</th>\n",
       "      <th>st_waterfront</th>\n",
       "      <th>st_view</th>\n",
       "      <th>st_condition</th>\n",
       "      <th>st_grade</th>\n",
       "      <th>st_sqft_above</th>\n",
       "      <th>st_sqft_basement</th>\n",
       "      <th>st_yr_built</th>\n",
       "      <th>st_yr_renovated</th>\n",
       "      <th>st_sqft_living15</th>\n",
       "    </tr>\n",
       "  </thead>\n",
       "  <tbody>\n",
       "    <tr>\n",
       "      <th>0</th>\n",
       "      <td>2597000006</td>\n",
       "      <td>2015-03-09</td>\n",
       "      <td>347500.0</td>\n",
       "      <td>3</td>\n",
       "      <td>1.50</td>\n",
       "      <td>1180</td>\n",
       "      <td>8353</td>\n",
       "      <td>1.0</td>\n",
       "      <td>0</td>\n",
       "      <td>0</td>\n",
       "      <td>...</td>\n",
       "      <td>0.0</td>\n",
       "      <td>0.0</td>\n",
       "      <td>0.0</td>\n",
       "      <td>0.5</td>\n",
       "      <td>0.4</td>\n",
       "      <td>0.106617</td>\n",
       "      <td>0.000000</td>\n",
       "      <td>0.521739</td>\n",
       "      <td>0.0</td>\n",
       "      <td>0.194991</td>\n",
       "    </tr>\n",
       "    <tr>\n",
       "      <th>1</th>\n",
       "      <td>8813400345</td>\n",
       "      <td>2015-04-14</td>\n",
       "      <td>575000.0</td>\n",
       "      <td>2</td>\n",
       "      <td>1.00</td>\n",
       "      <td>980</td>\n",
       "      <td>3663</td>\n",
       "      <td>1.0</td>\n",
       "      <td>0</td>\n",
       "      <td>0</td>\n",
       "      <td>...</td>\n",
       "      <td>0.0</td>\n",
       "      <td>0.0</td>\n",
       "      <td>0.0</td>\n",
       "      <td>1.0</td>\n",
       "      <td>0.4</td>\n",
       "      <td>0.079829</td>\n",
       "      <td>0.000000</td>\n",
       "      <td>0.078261</td>\n",
       "      <td>0.0</td>\n",
       "      <td>0.178891</td>\n",
       "    </tr>\n",
       "    <tr>\n",
       "      <th>2</th>\n",
       "      <td>226059106</td>\n",
       "      <td>2015-01-02</td>\n",
       "      <td>489500.0</td>\n",
       "      <td>3</td>\n",
       "      <td>1.75</td>\n",
       "      <td>2090</td>\n",
       "      <td>65558</td>\n",
       "      <td>1.0</td>\n",
       "      <td>0</td>\n",
       "      <td>0</td>\n",
       "      <td>...</td>\n",
       "      <td>0.0</td>\n",
       "      <td>0.0</td>\n",
       "      <td>0.0</td>\n",
       "      <td>0.5</td>\n",
       "      <td>0.5</td>\n",
       "      <td>0.126708</td>\n",
       "      <td>0.290076</td>\n",
       "      <td>0.669565</td>\n",
       "      <td>0.0</td>\n",
       "      <td>0.327370</td>\n",
       "    </tr>\n",
       "  </tbody>\n",
       "</table>\n",
       "<p>3 rows × 32 columns</p>\n",
       "</div>"
      ],
      "text/plain": [
       "           id       date     price  bedrooms  bathrooms  sqft_living  \\\n",
       "0  2597000006 2015-03-09  347500.0         3       1.50         1180   \n",
       "1  8813400345 2015-04-14  575000.0         2       1.00          980   \n",
       "2   226059106 2015-01-02  489500.0         3       1.75         2090   \n",
       "\n",
       "   sqft_lot  floors  waterfront  view  ...  st_floors  st_waterfront  st_view  \\\n",
       "0      8353     1.0           0     0  ...        0.0            0.0      0.0   \n",
       "1      3663     1.0           0     0  ...        0.0            0.0      0.0   \n",
       "2     65558     1.0           0     0  ...        0.0            0.0      0.0   \n",
       "\n",
       "   st_condition  st_grade  st_sqft_above  st_sqft_basement  st_yr_built  \\\n",
       "0           0.5       0.4       0.106617          0.000000     0.521739   \n",
       "1           1.0       0.4       0.079829          0.000000     0.078261   \n",
       "2           0.5       0.5       0.126708          0.290076     0.669565   \n",
       "\n",
       "   st_yr_renovated  st_sqft_living15  \n",
       "0              0.0          0.194991  \n",
       "1              0.0          0.178891  \n",
       "2              0.0          0.327370  \n",
       "\n",
       "[3 rows x 32 columns]"
      ]
     },
     "execution_count": 56,
     "metadata": {},
     "output_type": "execute_result"
    }
   ],
   "source": [
    "data6_new2.head(3)"
   ]
  },
  {
   "cell_type": "code",
   "execution_count": 57,
   "id": "576d0632",
   "metadata": {},
   "outputs": [],
   "source": [
    "data6_new2['day']=data6.date.dt.strftime('%a')"
   ]
  },
  {
   "cell_type": "code",
   "execution_count": 58,
   "id": "55ac78db",
   "metadata": {},
   "outputs": [
    {
     "data": {
      "text/plain": [
       "0       월\n",
       "1       화\n",
       "2       금\n",
       "3       화\n",
       "4       금\n",
       "       ..\n",
       "4318    화\n",
       "4319    화\n",
       "4320    금\n",
       "4321    금\n",
       "4322    월\n",
       "Name: day, Length: 4323, dtype: object"
      ]
     },
     "execution_count": 58,
     "metadata": {},
     "output_type": "execute_result"
    }
   ],
   "source": [
    "data6_new2['day']"
   ]
  },
  {
   "cell_type": "code",
   "execution_count": 64,
   "id": "fa3869c4",
   "metadata": {},
   "outputs": [],
   "source": [
    "onehot=OneHotEncoder(sparse=False).fit(data6_new2[['day']])"
   ]
  },
  {
   "cell_type": "code",
   "execution_count": 65,
   "id": "94cd9384",
   "metadata": {},
   "outputs": [
    {
     "data": {
      "text/plain": [
       "array([[0., 0., 0., ..., 0., 0., 0.],\n",
       "       [0., 0., 0., ..., 0., 0., 1.],\n",
       "       [1., 0., 0., ..., 0., 0., 0.],\n",
       "       ...,\n",
       "       [1., 0., 0., ..., 0., 0., 0.],\n",
       "       [1., 0., 0., ..., 0., 0., 0.],\n",
       "       [0., 0., 0., ..., 0., 0., 0.]])"
      ]
     },
     "execution_count": 65,
     "metadata": {},
     "output_type": "execute_result"
    }
   ],
   "source": [
    "onehot_out=onehot.transform(data6_new2[['day']])\n",
    "# print(onehot_out)\n",
    "onehot_out"
   ]
  },
  {
   "cell_type": "code",
   "execution_count": 66,
   "id": "4067658e",
   "metadata": {},
   "outputs": [
    {
     "data": {
      "text/plain": [
       "[array(['금', '목', '수', '월', '일', '토', '화'], dtype=object)]"
      ]
     },
     "execution_count": 66,
     "metadata": {},
     "output_type": "execute_result"
    }
   ],
   "source": [
    "onehot.categories_"
   ]
  },
  {
   "cell_type": "code",
   "execution_count": 68,
   "id": "27f8ef7f",
   "metadata": {},
   "outputs": [],
   "source": [
    "data6_new2[onehot.categories_[0]]=onehot_out"
   ]
  },
  {
   "cell_type": "code",
   "execution_count": 69,
   "id": "c4a966b5",
   "metadata": {},
   "outputs": [
    {
     "data": {
      "text/html": [
       "<div>\n",
       "<style scoped>\n",
       "    .dataframe tbody tr th:only-of-type {\n",
       "        vertical-align: middle;\n",
       "    }\n",
       "\n",
       "    .dataframe tbody tr th {\n",
       "        vertical-align: top;\n",
       "    }\n",
       "\n",
       "    .dataframe thead th {\n",
       "        text-align: right;\n",
       "    }\n",
       "</style>\n",
       "<table border=\"1\" class=\"dataframe\">\n",
       "  <thead>\n",
       "    <tr style=\"text-align: right;\">\n",
       "      <th></th>\n",
       "      <th>금</th>\n",
       "      <th>목</th>\n",
       "      <th>수</th>\n",
       "      <th>월</th>\n",
       "      <th>일</th>\n",
       "      <th>토</th>\n",
       "      <th>화</th>\n",
       "    </tr>\n",
       "  </thead>\n",
       "  <tbody>\n",
       "    <tr>\n",
       "      <th>0</th>\n",
       "      <td>0.0</td>\n",
       "      <td>0.0</td>\n",
       "      <td>0.0</td>\n",
       "      <td>1.0</td>\n",
       "      <td>0.0</td>\n",
       "      <td>0.0</td>\n",
       "      <td>0.0</td>\n",
       "    </tr>\n",
       "    <tr>\n",
       "      <th>1</th>\n",
       "      <td>0.0</td>\n",
       "      <td>0.0</td>\n",
       "      <td>0.0</td>\n",
       "      <td>0.0</td>\n",
       "      <td>0.0</td>\n",
       "      <td>0.0</td>\n",
       "      <td>1.0</td>\n",
       "    </tr>\n",
       "    <tr>\n",
       "      <th>2</th>\n",
       "      <td>1.0</td>\n",
       "      <td>0.0</td>\n",
       "      <td>0.0</td>\n",
       "      <td>0.0</td>\n",
       "      <td>0.0</td>\n",
       "      <td>0.0</td>\n",
       "      <td>0.0</td>\n",
       "    </tr>\n",
       "    <tr>\n",
       "      <th>3</th>\n",
       "      <td>0.0</td>\n",
       "      <td>0.0</td>\n",
       "      <td>0.0</td>\n",
       "      <td>0.0</td>\n",
       "      <td>0.0</td>\n",
       "      <td>0.0</td>\n",
       "      <td>1.0</td>\n",
       "    </tr>\n",
       "    <tr>\n",
       "      <th>4</th>\n",
       "      <td>1.0</td>\n",
       "      <td>0.0</td>\n",
       "      <td>0.0</td>\n",
       "      <td>0.0</td>\n",
       "      <td>0.0</td>\n",
       "      <td>0.0</td>\n",
       "      <td>0.0</td>\n",
       "    </tr>\n",
       "  </tbody>\n",
       "</table>\n",
       "</div>"
      ],
      "text/plain": [
       "     금    목    수    월    일    토    화\n",
       "0  0.0  0.0  0.0  1.0  0.0  0.0  0.0\n",
       "1  0.0  0.0  0.0  0.0  0.0  0.0  1.0\n",
       "2  1.0  0.0  0.0  0.0  0.0  0.0  0.0\n",
       "3  0.0  0.0  0.0  0.0  0.0  0.0  1.0\n",
       "4  1.0  0.0  0.0  0.0  0.0  0.0  0.0"
      ]
     },
     "execution_count": 69,
     "metadata": {},
     "output_type": "execute_result"
    }
   ],
   "source": [
    "data6_new2[onehot.categories_[0]].head()"
   ]
  },
  {
   "cell_type": "code",
   "execution_count": 70,
   "id": "0a6bb30e",
   "metadata": {},
   "outputs": [],
   "source": [
    "## vif\n",
    "\n",
    "from statsmodels.stats.outliers_influence import variance_inflation_factor  # vif"
   ]
  },
  {
   "cell_type": "code",
   "execution_count": 71,
   "id": "31828e3c",
   "metadata": {},
   "outputs": [
    {
     "name": "stdout",
     "output_type": "stream",
     "text": [
      "Help on function variance_inflation_factor in module statsmodels.stats.outliers_influence:\n",
      "\n",
      "variance_inflation_factor(exog, exog_idx)\n",
      "    Variance inflation factor, VIF, for one exogenous variable\n",
      "    \n",
      "    The variance inflation factor is a measure for the increase of the\n",
      "    variance of the parameter estimates if an additional variable, given by\n",
      "    exog_idx is added to the linear regression. It is a measure for\n",
      "    multicollinearity of the design matrix, exog.\n",
      "    \n",
      "    One recommendation is that if VIF is greater than 5, then the explanatory\n",
      "    variable given by exog_idx is highly collinear with the other explanatory\n",
      "    variables, and the parameter estimates will have large standard errors\n",
      "    because of this.\n",
      "    \n",
      "    Parameters\n",
      "    ----------\n",
      "    exog : {ndarray, DataFrame}\n",
      "        design matrix with all explanatory variables, as for example used in\n",
      "        regression\n",
      "    exog_idx : int\n",
      "        index of the exogenous variable in the columns of exog\n",
      "    \n",
      "    Returns\n",
      "    -------\n",
      "    float\n",
      "        variance inflation factor\n",
      "    \n",
      "    Notes\n",
      "    -----\n",
      "    This function does not save the auxiliary regression.\n",
      "    \n",
      "    See Also\n",
      "    --------\n",
      "    xxx : class for regression diagnostics  TODO: does not exist yet\n",
      "    \n",
      "    References\n",
      "    ----------\n",
      "    https://en.wikipedia.org/wiki/Variance_inflation_factor\n",
      "\n"
     ]
    }
   ],
   "source": [
    "help(variance_inflation_factor)"
   ]
  },
  {
   "cell_type": "code",
   "execution_count": 72,
   "id": "641756cb",
   "metadata": {},
   "outputs": [
    {
     "data": {
      "text/plain": [
       "15.300242588205293"
      ]
     },
     "execution_count": 72,
     "metadata": {},
     "output_type": "execute_result"
    }
   ],
   "source": [
    "variance_inflation_factor(data6_new2[var_list2], 0)  # 기준 10"
   ]
  },
  {
   "cell_type": "code",
   "execution_count": 73,
   "id": "d9303ac7",
   "metadata": {},
   "outputs": [
    {
     "data": {
      "text/plain": [
       "[15.300242588205293,\n",
       " 27.185945847439378,\n",
       " inf,\n",
       " 3.541951765354249,\n",
       " 1.220050611931144,\n",
       " 1.5394691655924386,\n",
       " 10.887185560821454,\n",
       " 37.90806151979273,\n",
       " inf,\n",
       " inf,\n",
       " 12.537174425453188,\n",
       " 1.1511020018120393,\n",
       " 14.235836410118734]"
      ]
     },
     "execution_count": 73,
     "metadata": {},
     "output_type": "execute_result"
    }
   ],
   "source": [
    "vif=[variance_inflation_factor(data6_new2[var_list2], i) for i in np.arange(len(var_list2))]\n",
    "vif"
   ]
  },
  {
   "cell_type": "code",
   "execution_count": 74,
   "id": "9946bbd0",
   "metadata": {},
   "outputs": [
    {
     "data": {
      "text/plain": [
       "st_bedrooms         15.300243\n",
       "st_bathrooms        27.185946\n",
       "st_sqft_living            inf\n",
       "st_floors            3.541952\n",
       "st_waterfront        1.220051\n",
       "st_view              1.539469\n",
       "st_condition        10.887186\n",
       "st_grade            37.908062\n",
       "st_sqft_above             inf\n",
       "st_sqft_basement          inf\n",
       "st_yr_built         12.537174\n",
       "st_yr_renovated      1.151102\n",
       "st_sqft_living15    14.235836\n",
       "dtype: float64"
      ]
     },
     "execution_count": 74,
     "metadata": {},
     "output_type": "execute_result"
    }
   ],
   "source": [
    "vif=pd.Series(vif, index=var_list2)\n",
    "vif"
   ]
  },
  {
   "cell_type": "code",
   "execution_count": 75,
   "id": "f0583d48",
   "metadata": {},
   "outputs": [
    {
     "data": {
      "text/plain": [
       "'st_sqft_living'"
      ]
     },
     "execution_count": 75,
     "metadata": {},
     "output_type": "execute_result"
    }
   ],
   "source": [
    "vif.idxmax()"
   ]
  },
  {
   "cell_type": "code",
   "execution_count": 77,
   "id": "9b2af43b",
   "metadata": {},
   "outputs": [
    {
     "data": {
      "text/plain": [
       "Index(['st_bedrooms', 'st_bathrooms', 'st_floors', 'st_waterfront', 'st_view',\n",
       "       'st_condition', 'st_grade', 'st_sqft_above', 'st_sqft_basement',\n",
       "       'st_yr_built', 'st_yr_renovated', 'st_sqft_living15'],\n",
       "      dtype='object')"
      ]
     },
     "execution_count": 77,
     "metadata": {},
     "output_type": "execute_result"
    }
   ],
   "source": [
    "sel_list3=var_list2.drop('st_sqft_living')\n",
    "sel_list3"
   ]
  },
  {
   "cell_type": "code",
   "execution_count": 79,
   "id": "a91c4da7",
   "metadata": {},
   "outputs": [
    {
     "data": {
      "text/plain": [
       "st_bedrooms         15.300243\n",
       "st_bathrooms        27.185946\n",
       "st_floors            3.541952\n",
       "st_waterfront        1.220051\n",
       "st_view              1.539469\n",
       "st_condition        10.887186\n",
       "st_grade            37.908062\n",
       "st_sqft_above       16.174603\n",
       "st_sqft_basement     2.686081\n",
       "st_yr_built         12.537174\n",
       "st_yr_renovated      1.151102\n",
       "st_sqft_living15    14.235836\n",
       "dtype: float64"
      ]
     },
     "execution_count": 79,
     "metadata": {},
     "output_type": "execute_result"
    }
   ],
   "source": [
    "vif2=[variance_inflation_factor(data6_new2[sel_list3], i) for i in np.arange(len(sel_list3))]\n",
    "vif2=pd.Series(vif2, index=sel_list3)\n",
    "vif2"
   ]
  },
  {
   "cell_type": "code",
   "execution_count": null,
   "id": "16cdaa2e",
   "metadata": {},
   "outputs": [],
   "source": []
  },
  {
   "cell_type": "markdown",
   "id": "0bbf5954",
   "metadata": {},
   "source": [
    "# 문제 07 유형(DataSet_07.csv 이용)"
   ]
  },
  {
   "cell_type": "code",
   "execution_count": null,
   "id": "2e04f741",
   "metadata": {},
   "outputs": [],
   "source": [
    "# =============================================================================\n",
    "# 구분자 : comma(“,”), 400 Rows, 9 Columns, UTF-8 인코딩\n",
    "#\n",
    "# 대학원 진학을 위하여 어떤 항목이 중요하게 영향을 미치는지\n",
    "# 아래 데이터로 분석하고자 한다.\n",
    "\n",
    "# 컬 럼 / 정 의 / Type\n",
    "# Serial_No / 구분자 번호 / Double\n",
    "# GRE / GRE 시험 성적 / Double\n",
    "# TOEFL / TOEFL 시험 성적 / Double\n",
    "# University_Rating / 대학 평가 그룹 (1 ~ 5) / Double\n",
    "# SOP / 자기 소개서 점수 (1 ~ 5) / Double\n",
    "# LOR / 추천서 점수 (1 ~ 5) / Double\n",
    "# CGPA / 학부 평량 평점 (10점 만점 환산 점수) / Double\n",
    "# Research / 연구 참여 경험 여부 (0 / 1) / Double\n",
    "# Chance_of_Admit / 합격 가능성 / Double\n",
    "# =============================================================================\n",
    "# =============================================================================\n",
    "\n",
    "# =============================================================================\n",
    "# (참고)\n",
    "# #1\n",
    "# import pandas as pd\n",
    "# #2\n",
    "# import scipy.stats as stats\n",
    "# #3\n",
    "# from sklearn.linear_model import LogisticRegression\n",
    "# Solver = ‘liblinear’, random_state = 12\n",
    "# ============================================================================="
   ]
  },
  {
   "cell_type": "code",
   "execution_count": null,
   "id": "aaec14d4",
   "metadata": {},
   "outputs": [],
   "source": []
  },
  {
   "cell_type": "code",
   "execution_count": null,
   "id": "ce844b57",
   "metadata": {},
   "outputs": [],
   "source": []
  },
  {
   "cell_type": "code",
   "execution_count": null,
   "id": "5d596143",
   "metadata": {},
   "outputs": [],
   "source": [
    "# =============================================================================\n",
    "# 1. 합격 가능성에 GRE, TOEFL, CGPA 점수 가운데 가장 영향이 큰 것이 어떤 점수인지\n",
    "# 알아 보기 위해서 상관 분석을 수행한다.\n",
    "# - 피어슨(Pearson) 상관계수 값을 구한다.\n",
    "# - Chance_of_Admit와의 가장 큰 상관계수 값을 가지는 항목의 상관계수를 소수점 넷째\n",
    "# 자리에서 반올림하여 셋째 자리까지 기술하시오. (답안 예시) 0.123\n",
    "# ============================================================================="
   ]
  },
  {
   "cell_type": "code",
   "execution_count": null,
   "id": "f0384565",
   "metadata": {},
   "outputs": [],
   "source": []
  },
  {
   "cell_type": "code",
   "execution_count": null,
   "id": "17981cf3",
   "metadata": {},
   "outputs": [],
   "source": []
  },
  {
   "cell_type": "code",
   "execution_count": null,
   "id": "df044255",
   "metadata": {},
   "outputs": [],
   "source": [
    "# =============================================================================\n",
    "# 2.GRE 점수의 평균 이상을 받은 그룹과 평균 미만을 받은 그룹의 CGPA 평균은 차이가\n",
    "# 있는지\n",
    "# 검정을 하고자 한다.\n",
    "# - 적절한 검정 방법을 선택하고 양측 검정을 수행하시오 (등분산으로 가정)\n",
    "# - 검정 결과, 검정통계량의 추정치를 소수점 셋째 자리에서 반올림하여 소수점 두 자리까지\n",
    "# 기술하시오.\n",
    "# (답안 예시) 1.23\n",
    "# ============================================================================="
   ]
  },
  {
   "cell_type": "code",
   "execution_count": null,
   "id": "aa171368",
   "metadata": {},
   "outputs": [],
   "source": []
  },
  {
   "cell_type": "code",
   "execution_count": null,
   "id": "96f5156b",
   "metadata": {},
   "outputs": [],
   "source": []
  },
  {
   "cell_type": "code",
   "execution_count": null,
   "id": "2c744468",
   "metadata": {},
   "outputs": [],
   "source": [
    "# =============================================================================\n",
    "# 3.Chance_of_Admit 확률이 0.5를 초과하면 합격으로, 이하이면 불합격으로 구분하고\n",
    "# 로지스틱 회귀분석을 수행하시오.\n",
    "# - 원데이터만 사용하고, 원데이터 가운데 Serial_No와 Label은 모형에서 제외\n",
    "# - 각 설정값은 다음과 같이 지정하고, 언급되지 않은 사항은 기본 설정값을 사용하시오\n",
    "# Seed : 123\n",
    "# - 로지스틱 회귀분석 수행 결과에서 로지스틱 회귀계수의 절대값이 가장 큰 변수와 그 값을\n",
    "# 기술하시오. \n",
    "# (로지스틱 회귀계수는 반올림하여 소수점 둘째 자리까지 / Intercept는 제외)\n",
    "# (답안 예시) abc, 0.12\n",
    "# ============================================================================="
   ]
  },
  {
   "cell_type": "code",
   "execution_count": null,
   "id": "96f8f708",
   "metadata": {},
   "outputs": [],
   "source": []
  },
  {
   "cell_type": "code",
   "execution_count": null,
   "id": "cf53a96d",
   "metadata": {},
   "outputs": [],
   "source": []
  },
  {
   "cell_type": "markdown",
   "id": "49cfc502",
   "metadata": {},
   "source": [
    "# 문제 08 유형(DataSet_08.csv 이용)"
   ]
  },
  {
   "cell_type": "code",
   "execution_count": null,
   "id": "b2ee895f",
   "metadata": {},
   "outputs": [],
   "source": [
    "# =============================================================================\n",
    "# 구분자 : comma(“,”), 50 Rows, 5 Columns, UTF-8 인코딩\n",
    "#\n",
    "# 스타트업 기업들의 수익성에 대한 분석을 하기 위하여\n",
    "# 아래와 같은 데이터를 입수하였다\n",
    "#\n",
    "# \n",
    "# 컬 럼 / 정 의 / Type\n",
    "# RandD_Spend / 연구개발비 지출 / Double\n",
    "# Administration / 운영관리비 지출 / Double\n",
    "# Marketing_Spend / 마케팅비 지출 / Double\n",
    "# State / 본사 위치 / String\n",
    "# Profit / 이익 / Double\n",
    "# =============================================================================\n",
    "# =============================================================================\n",
    "\n",
    "# =============================================================================\n",
    "# (참고)\n",
    "# #1\n",
    "# import pandas as pd\n",
    "# import numpy as np\n",
    "# #3\n",
    "# from sklearn.linear_model import LinearRegression\n",
    "# ============================================================================="
   ]
  },
  {
   "cell_type": "code",
   "execution_count": null,
   "id": "1c479e6d",
   "metadata": {},
   "outputs": [],
   "source": []
  },
  {
   "cell_type": "code",
   "execution_count": null,
   "id": "04955f93",
   "metadata": {},
   "outputs": [],
   "source": []
  },
  {
   "cell_type": "code",
   "execution_count": null,
   "id": "bc69956e",
   "metadata": {},
   "outputs": [],
   "source": [
    "# =============================================================================\n",
    "# 1.각 주(State)별 데이터 구성비를 소수점 둘째 자리까지 구하고, 알파벳 순으로\n",
    "# 기술하시오(주 이름 기준).\n",
    "# (답안 예시) 0.12, 0.34, 0.54\n",
    "# ============================================================================="
   ]
  },
  {
   "cell_type": "code",
   "execution_count": null,
   "id": "da90f80a",
   "metadata": {},
   "outputs": [],
   "source": []
  },
  {
   "cell_type": "code",
   "execution_count": null,
   "id": "0154aa0f",
   "metadata": {},
   "outputs": [],
   "source": []
  },
  {
   "cell_type": "code",
   "execution_count": null,
   "id": "2c86c11d",
   "metadata": {},
   "outputs": [],
   "source": [
    "# =============================================================================\n",
    "# 2.주별 이익의 평균을 구하고, 평균 이익이 가장 큰 주와 작은 주의 차이를 구하시오. \n",
    "# 차이값은 소수점 이하는 버리고 정수부분만 기술하시오. (답안 예시) 1234\n",
    "# ============================================================================="
   ]
  },
  {
   "cell_type": "code",
   "execution_count": null,
   "id": "e869f79a",
   "metadata": {},
   "outputs": [],
   "source": []
  },
  {
   "cell_type": "code",
   "execution_count": null,
   "id": "7c063132",
   "metadata": {},
   "outputs": [],
   "source": []
  },
  {
   "cell_type": "code",
   "execution_count": null,
   "id": "64ff523c",
   "metadata": {},
   "outputs": [],
   "source": [
    "# =============================================================================\n",
    "# 3.독립변수로 RandD_Spend, Administration, Marketing_Spend를 사용하여 Profit을 주별로\n",
    "# 예측하는 회귀 모형을 만들고, 이 회귀모형을 사용하여 학습오차를 산출하시오.\n",
    "# - 주별로 계산된 학습오차 중 MAPE 기준으로 가장 낮은 오차를 보이는 주는 어느\n",
    "# 주이고 그 값은 무엇인가? (반올림하여 소수점 둘째 자리까지 기술하시오)\n",
    "# - (MAPE = Σ ( | y - y ̂ | / y ) * 100/n )\n",
    "# (답안 예시) ABC, 1.56\n",
    "# ============================================================================="
   ]
  },
  {
   "cell_type": "code",
   "execution_count": null,
   "id": "f378cf27",
   "metadata": {},
   "outputs": [],
   "source": []
  },
  {
   "cell_type": "code",
   "execution_count": null,
   "id": "5ef0cbbe",
   "metadata": {},
   "outputs": [],
   "source": []
  },
  {
   "cell_type": "markdown",
   "id": "bf173895",
   "metadata": {},
   "source": [
    "# 문제 09 유형(DataSet_09.csv 이용)"
   ]
  },
  {
   "cell_type": "code",
   "execution_count": null,
   "id": "f697c213",
   "metadata": {},
   "outputs": [],
   "source": [
    "# =============================================================================\n",
    "# 구분자 : comma(“,”), 2000 Rows, 16 Columns, UTF-8 인코딩\n",
    "#\n",
    "# 항공사에서 고객만족도 조사를 하고 서비스 개선에 활용하고자\n",
    "# 아래와 같은 데이터를 준비하였다.\n",
    "#\n",
    "# 컬 럼 / 정 의 / Type\n",
    "# satisfaction / 서비스 만족 여부 / String\n",
    "# Gender / 성별 / String\n",
    "# Age / 나이 / Double\n",
    "# Customer_Type / 고객 타입 / String\n",
    "# Class / 탑승 좌석 등급 / String\n",
    "# Flight_Distance / 비행 거리 / Double\n",
    "# Seat_comfort / 좌석 안락도 점수 / Double\n",
    "# Food_and_Drink / 식사와 음료 점수 / Double\n",
    "# Inflight_wifi_service / 기내 와이파이 서비스 점수 / Double\n",
    "# Inflight_entertainment / 기내 엔터테인먼트 서비스 점수 / Double\n",
    "# Onboard_service / 탑승 서비스 점수 / Double\n",
    "# Leg_room_service / 다리 공간 점수 / Double\n",
    "# Baggage_handling / 수하물 취급 점수 / Double\n",
    "# Cleanliness / 청결도 점수 / Double\n",
    "# Departure_Daly_in_Minutes / 출발 지연 (분) / Double\n",
    "# Arrival_Delay_in_Minutes / 도착 지연 (분) / Double\n",
    "# =============================================================================\n",
    "# =============================================================================\n",
    "\n",
    "# =============================================================================\n",
    "# (참고)\n",
    "# #1\n",
    "# import pandas as pd\n",
    "# import numpy as np\n",
    "# #2\n",
    "# import scipy.stats as stats\n",
    "# #3\n",
    "# from sklearn.linear_model import LogisticRegression\n",
    "# from sklearn.model_selection import train_test_split\n",
    "# from sklearn import metrics\n",
    "# \n",
    "# ============================================================================="
   ]
  },
  {
   "cell_type": "code",
   "execution_count": null,
   "id": "6b2df10e",
   "metadata": {},
   "outputs": [],
   "source": [
    "# =============================================================================\n",
    "# 1.데이터 타입을 위 표에 정의된 타입으로 전처리를 한 후, 데이터 파일 내에 결측값은\n",
    "# 총 몇 개인가? (답안 예시) 1\n",
    "# ============================================================================="
   ]
  },
  {
   "cell_type": "code",
   "execution_count": null,
   "id": "c2c527ed",
   "metadata": {},
   "outputs": [],
   "source": []
  },
  {
   "cell_type": "code",
   "execution_count": null,
   "id": "2f55e8aa",
   "metadata": {},
   "outputs": [],
   "source": []
  },
  {
   "cell_type": "code",
   "execution_count": null,
   "id": "926d0818",
   "metadata": {},
   "outputs": [],
   "source": [
    "# =============================================================================\n",
    "# 2.다음에 제시된 데이터 처리를 하고 카이제곱 독립성 검정을 수행하시오.\n",
    "# - 결측값이 있다면 해당 행을 제거하시오.\n",
    "# - 나이는 20 이하이면 10, 30 이하이면 20, 40 이하이면 30, 50 이하이면 40, 60 이하이면 50, \n",
    "# 60 초과는 60으로 변환하여 Age_gr으로 파생변수를 생성하시오.\n",
    "# - Age_gr, Gender, Customer_Type, Class 변수가 satisfaction에 영향이 있는지 카이제곱\n",
    "# 독립성 검정을 수행하시오. \n",
    "# - 연관성이 있는 것으로 파악된 변수의 검정통계량 추정치를 정수 부분만 기술하시오. \n",
    "# (답안 예시) 123\n",
    "# ============================================================================="
   ]
  },
  {
   "cell_type": "code",
   "execution_count": null,
   "id": "e305d6b6",
   "metadata": {},
   "outputs": [],
   "source": [
    "#%%\n",
    "\n",
    "# =============================================================================\n",
    "# 3.고객 만족도를 라벨로 하여 다음과 같이 로지스틱 회귀분석을 수행하시오. \n",
    "# - 결측치가 포함된 행은 제거\n",
    "# - 데이터를 7대 3으로 분리 (Seed = 123)\n",
    "# - 아래의 11개 변수를 Feature로 사용\n",
    "# Flight_Distance, Seat_comfort, Food_and_drink, Inflight_wifi_service, \n",
    "# Inflight_entertainment,Onboard_service, Leg_room_service, Baggage_handling,\n",
    "# Cleanliness, Departure_Delay_in_Minutes, Arrival_Delay_in_Minutes\n",
    "# \n",
    "# - Seed = 123, 이외의 항목은 모두 Default 사용\n",
    "# - 예측 정확도를 측정하고 dissatisfied의 f1 score를 소수점 넷째 자리에서 반올림하여\n",
    "# 소수점 셋째 자리까지 기술하시오. (답안 예시) 0.123\n",
    "# =============================================================================\n",
    "\n",
    "\n",
    "\n",
    "\n",
    "\n",
    "\n",
    "\n",
    "\n",
    "\n",
    "\n",
    "\n",
    "\n",
    "\n",
    "\n",
    "\n",
    "#%%\n",
    "\n",
    "# =============================================================================\n",
    "# =============================================================================\n",
    "# # 문제 10 유형(DataSet_10.csv 이용)\n",
    "#\n",
    "# 구분자 : comma(“,”), 1538 Rows, 6 Columns, UTF-8 인코딩\n",
    "\n",
    "# 중고 자동차 가격에 대한 분석을 위하여 아래와 같은 데이터를\n",
    "# 확보하였다.\n",
    "\n",
    "# 컬 럼 / 정 의 / Type\n",
    "# model / 모델명 / String\n",
    "# engine_power / 엔진 파워 / Double\n",
    "# age_in_days / 운행 일수 / Double\n",
    "# km / 운행 거리 / Double\n",
    "# previous_owners / 이전 소유자 수 / Double\n",
    "# price / 중고차 가격 / Double\n",
    "# =============================================================================\n",
    "# =============================================================================\n",
    "\n",
    "# =============================================================================\n",
    "# (참고)\n",
    "# #1\n",
    "# import pandas as pd\n",
    "# import numpy as np\n",
    "# #2\n",
    "# import scipy.stats as ststs\n",
    "# #3\n",
    "# from sklearn.linear_model import LinearRegression\n",
    "# =============================================================================\n",
    "\n",
    "\n",
    "#%%\n",
    "\n",
    "# =============================================================================\n",
    "# 1.이전 소유자 수가 한 명이고 엔진 파워가 51인 차에 대해 모델별 하루 평균 운행\n",
    "# 거리를 산출하였을 때 가장 낮은 값을 가진 모델이 가장 큰 값을 가진 모델에 대한\n",
    "# 비율은 얼마인가? 소수점 셋째 자리에서 반올림하여 소수점 둘째 자리까지\n",
    "# 기술하시오.\n",
    "# (모델별 평균 → 일평균 → 최대최소 비율 계산) (답안 예시) 0.12\n",
    "# =============================================================================\n",
    "\n",
    "\n",
    "\n",
    "\n",
    "\n",
    "\n",
    "\n",
    "\n",
    "\n",
    "\n",
    "\n",
    "\n",
    "\n",
    "#%%\n",
    "\n",
    "# =============================================================================\n",
    "# 2.운행 일수에 대한 운행 거리를 산출하고, 위 1번 문제에서 가장 큰 값을 가지고 있던\n",
    "# 모델과 가장 낮은 값을 가지고 있던 모델 간의 운행 일수 대비 운행거리 평균이 다른지\n",
    "# 적절한 통계 검정을 수행하고 p-value를 소수점 세자리 이하는 버리고 소수점\n",
    "# 두자리까지 기술하고 기각 여부를 Y / N로 답하시오. (등분산을 가정하고 equal_var = \n",
    "# True / var.equal = T로 분석을 실행하시오.)\n",
    "# (답안 예시) 0.23, Y\n",
    "# =============================================================================\n",
    "\n",
    "\n",
    "\n",
    "\n",
    "\n",
    "\n",
    "\n",
    "\n",
    "\n",
    "\n",
    "#%%\n",
    "\n",
    "# =============================================================================\n",
    "# 3.독립변수로 engine_power, age_in_days, km를 사용하고 종속변수로 price를 사용하여\n",
    "# 모델별 선형회귀분석을 수행하고, 산출된 모형을 사용하여 다음과 같은 조건의\n",
    "# 중고차에 대한 가격을 예측하고 예측된 가격을 정수부만 기술하시오.\n",
    "# - model : pop / engine_power : 51 / age_in_days : 400 / km : 9500 / previous_owners : 2\n",
    "\n",
    "# (답안 예시) 12345\n",
    "# =============================================================================\n",
    "# model = pop이고 이전 소유자수가 2명인 데이터만을 이용하여 회귀모델을 생성하시오."
   ]
  }
 ],
 "metadata": {
  "kernelspec": {
   "display_name": "Python 3 (ipykernel)",
   "language": "python",
   "name": "python3"
  },
  "language_info": {
   "codemirror_mode": {
    "name": "ipython",
    "version": 3
   },
   "file_extension": ".py",
   "mimetype": "text/x-python",
   "name": "python",
   "nbconvert_exporter": "python",
   "pygments_lexer": "ipython3",
   "version": "3.11.5"
  }
 },
 "nbformat": 4,
 "nbformat_minor": 5
}
